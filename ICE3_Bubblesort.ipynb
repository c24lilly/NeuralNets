{
 "cells": [
  {
   "cell_type": "markdown",
   "metadata": {},
   "source": [
    "## ECE495 In-class Exercise 3: Bubble Sort using Nengo"
   ]
  },
  {
   "cell_type": "markdown",
   "metadata": {},
   "source": [
    "This ICE uses Nengo to sort an array using the bubble sort algorithm. The objectives of this ICE are to:\n",
    "\n",
    "- Input any input array to automatically adjust the dimensions of your neuron nodes and ensembles required to sort your array. This will offer much cleaner code than that of Lecture 16 and will serve you well on your final project (hand jamming 30+ ensembles gets tedious).\n",
    "- Connect neuron ensembles _for an array of 4 values_ to be sorted. Bonus points if you generalize this using `for` loops. Why? (a) it's not easy and (b) it's more of an exercise in Python programming knowledge, not Nengo knowledge.\n",
    "- Understand why the output values are not exact and think through ways to fix that (hint: the answer is not more neurons! Sad...)"
   ]
  },
  {
   "cell_type": "markdown",
   "metadata": {},
   "source": [
    "#### Set up\n",
    "\n",
    "**Ensure you are using your [495 Virtual Environment](https://github.com/kaitlin-fair/495venv_setup) before you begin!**  \n",
    "    \n",
    "Import Nengo and other supporting libraries into your program to get started:"
   ]
  },
  {
   "cell_type": "code",
   "execution_count": 93,
   "metadata": {
    "id": "5T8-BHo0HUCC"
   },
   "outputs": [],
   "source": [
    "import matplotlib.pyplot as plt\n",
    "import numpy as np\n",
    "\n",
    "import nengo\n",
    "\n",
    "from nengo.dists import Uniform\n",
    "from nengo.utils.matplotlib import rasterplot"
   ]
  },
  {
   "cell_type": "markdown",
   "metadata": {
    "id": "SRNvPHASH60r"
   },
   "source": [
    "### Create your array to be sorted\n",
    "\n",
    "Create the following 4-dimensional array by filling in `???`:\n",
    "$\\begin{bmatrix} -.5 & .6 & -.3 & .4  \\end{bmatrix}$ "
   ]
  },
  {
   "cell_type": "code",
   "execution_count": 94,
   "metadata": {
    "colab": {
     "base_uri": "https://localhost:8080/"
    },
    "id": "ujj_kHg6IFcF",
    "outputId": "a9b6675c-9468-48e5-85eb-d2a7bf3b9a6c"
   },
   "outputs": [],
   "source": [
    "input_array = np.array([-0.5, 0.6, -0.3, 0.4])"
   ]
  },
  {
   "cell_type": "markdown",
   "metadata": {
    "id": "rdEV5qImCmr9"
   },
   "source": [
    "### Encode all inputs for sorting\n",
    "\n",
    "Create the model and add input nodes, neuron ensembles and probes to visualize our encoded input array.\n",
    "\n",
    "For info on how to create an \"array\" of nodes and ensembles, take a look [here](https://forum.nengo.ai/t/how-to-efficiently-create-nodes-for-each-features-in-your-dataset-can-we-use-size-in-in-nengo-node/2288/2). Ultimately, you are creating a multi-dimensional node using `input_array` as your argument and a multi-dimensional neuron ensemble using the argument `dimensions` with the appropriate number for your input array! \n",
    "\n",
    "Be sure to generalize this for lenght (i.e. I don't want to see something like dimension = 3 as an argument).\n",
    "\n",
    "The cool part is that now you only need one probe to collect data from all of your input nodes and one probe to collect all of your inputs from your input neurons.\n",
    "\n",
    "Fill in all `???` with the appropriate code."
   ]
  },
  {
   "cell_type": "code",
   "execution_count": 95,
   "metadata": {
    "colab": {
     "base_uri": "https://localhost:8080/",
     "height": 531
    },
    "id": "lH3Oq4a-PAPl",
    "outputId": "d7f0ea25-35ee-4bde-b8d1-43f4a698c370"
   },
   "outputs": [],
   "source": [
    "# Create a model to perform the sorting\n",
    "model = nengo.Network(label=\"SortArray\")\n",
    "with model:\n",
    "    input_node = nengo.Node(input_array)\n",
    "\n",
    "    # you will need number of neurons and number dimensions as input arguments\n",
    "    input_neuron = nengo.Ensemble(100 * input_array.size, dimensions=input_array.size)\n",
    "    # Using a for loop, connect all input nodes to input neuron ensembles to encode input\n",
    "    for i in range(input_array.size):\n",
    "        # Connect input nodes to input ensembles that will encode input\n",
    "        nengo.Connection(input_node[i], input_neuron[i])\n",
    "\n",
    "    # Add probes to your input nodes and neurons\n",
    "    # Don't forget a synapse in order to decode neuron ensemble outputs\n",
    "    input_probe_nodes = nengo.Probe(input_node)\n",
    "    input_probe_neurons = nengo.Probe(input_neuron, synapse=0.01)"
   ]
  },
  {
   "cell_type": "markdown",
   "metadata": {},
   "source": [
    "### Run it, plot it"
   ]
  },
  {
   "cell_type": "code",
   "execution_count": 96,
   "metadata": {},
   "outputs": [
    {
     "data": {
      "application/vdom.v1+json": {
       "attributes": {},
       "tagName": "div"
      },
      "text/html": [
       "\n",
       "                <script>\n",
       "                    if (Jupyter.version.split(\".\")[0] < 5) {\n",
       "                        var pb = document.getElementById(\"52764fdf-6f9d-4ca8-b6c4-7634b165a4ee\");\n",
       "                        var text = document.createTextNode(\n",
       "                            \"HMTL progress bar requires Jupyter Notebook >= \" +\n",
       "                            \"5.0 or Jupyter Lab. Alternatively, you can use \" +\n",
       "                            \"TerminalProgressBar().\");\n",
       "                        pb.parentNode.insertBefore(text, pb);\n",
       "                    }\n",
       "                </script>\n",
       "                <div id=\"52764fdf-6f9d-4ca8-b6c4-7634b165a4ee\" style=\"\n",
       "                    width: 100%;\n",
       "                    border: 1px solid #cfcfcf;\n",
       "                    border-radius: 4px;\n",
       "                    text-align: center;\n",
       "                    position: relative;\">\n",
       "                  <div class=\"pb-text\" style=\"\n",
       "                      position: absolute;\n",
       "                      width: 100%;\">\n",
       "                    0%\n",
       "                  </div>\n",
       "                  <div class=\"pb-fill\" style=\"\n",
       "                      background-color: #bdd2e6;\n",
       "                      width: 0%;\">\n",
       "                    <style type=\"text/css\" scoped=\"scoped\">\n",
       "                        @keyframes pb-fill-anim {\n",
       "                            0% { background-position: 0 0; }\n",
       "                            100% { background-position: 100px 0; }\n",
       "                        }\n",
       "                    </style>\n",
       "                    &nbsp;\n",
       "                  </div>\n",
       "                </div>"
      ],
      "text/plain": [
       "HtmlProgressBar cannot be displayed. Please use the TerminalProgressBar. It can be enabled with `nengo.rc['progress']['progress_bar'] = 'nengo.utils.progress.TerminalProgressBar'`."
      ]
     },
     "metadata": {},
     "output_type": "display_data"
    },
    {
     "data": {
      "application/vdom.v1+json": {
       "attributes": {
        "id": "33b20e25-02e6-4889-bd8a-7621c394a450",
        "style": {
         "border": "1px solid #cfcfcf",
         "borderRadius": "4px",
         "boxSizing": "border-box",
         "position": "relative",
         "textAlign": "center",
         "width": "100%"
        }
       },
       "children": [
        {
         "attributes": {
          "class": "pb-text",
          "style": {
           "position": "absolute",
           "width": "100%"
          }
         },
         "children": [
          "Build finished in 0:00:01."
         ],
         "tagName": "div"
        },
        {
         "attributes": {
          "class": "pb-fill",
          "style": {
           "animation": "none",
           "backgroundColor": "#bdd2e6",
           "backgroundImage": "none",
           "backgroundSize": "100px 100%",
           "width": "100%"
          }
         },
         "children": [
          {
           "attributes": {
            "scoped": "scoped",
            "type": "text/css"
           },
           "children": [
            "\n                        @keyframes pb-fill-anim {\n                            0% { background-position: 0 0; }\n                            100% { background-position: 100px 0; }\n                        }}"
           ],
           "tagName": "style"
          },
          " "
         ],
         "tagName": "div"
        }
       ],
       "tagName": "div"
      },
      "text/html": [
       "<script>\n",
       "              (function () {\n",
       "                  var root = document.getElementById('52764fdf-6f9d-4ca8-b6c4-7634b165a4ee');\n",
       "                  var text = root.getElementsByClassName('pb-text')[0];\n",
       "                  var fill = root.getElementsByClassName('pb-fill')[0];\n",
       "\n",
       "                  text.innerHTML = 'Build finished in 0:00:01.';\n",
       "                  \n",
       "            fill.style.width = '100%';\n",
       "            fill.style.animation = 'pb-fill-anim 2s linear infinite';\n",
       "            fill.style.backgroundSize = '100px 100%';\n",
       "            fill.style.backgroundImage = 'repeating-linear-gradient(' +\n",
       "                '90deg, #bdd2e6, #edf2f8 40%, #bdd2e6 80%, #bdd2e6)';\n",
       "        \n",
       "                  \n",
       "                fill.style.animation = 'none';\n",
       "                fill.style.backgroundImage = 'none';\n",
       "            \n",
       "              })();\n",
       "        </script>"
      ]
     },
     "metadata": {},
     "output_type": "display_data"
    },
    {
     "data": {
      "application/vdom.v1+json": {
       "attributes": {},
       "tagName": "div"
      },
      "text/html": [
       "\n",
       "                <script>\n",
       "                    if (Jupyter.version.split(\".\")[0] < 5) {\n",
       "                        var pb = document.getElementById(\"c139a254-410a-4b3c-9540-ecbf88bdbe70\");\n",
       "                        var text = document.createTextNode(\n",
       "                            \"HMTL progress bar requires Jupyter Notebook >= \" +\n",
       "                            \"5.0 or Jupyter Lab. Alternatively, you can use \" +\n",
       "                            \"TerminalProgressBar().\");\n",
       "                        pb.parentNode.insertBefore(text, pb);\n",
       "                    }\n",
       "                </script>\n",
       "                <div id=\"c139a254-410a-4b3c-9540-ecbf88bdbe70\" style=\"\n",
       "                    width: 100%;\n",
       "                    border: 1px solid #cfcfcf;\n",
       "                    border-radius: 4px;\n",
       "                    text-align: center;\n",
       "                    position: relative;\">\n",
       "                  <div class=\"pb-text\" style=\"\n",
       "                      position: absolute;\n",
       "                      width: 100%;\">\n",
       "                    0%\n",
       "                  </div>\n",
       "                  <div class=\"pb-fill\" style=\"\n",
       "                      background-color: #bdd2e6;\n",
       "                      width: 0%;\">\n",
       "                    <style type=\"text/css\" scoped=\"scoped\">\n",
       "                        @keyframes pb-fill-anim {\n",
       "                            0% { background-position: 0 0; }\n",
       "                            100% { background-position: 100px 0; }\n",
       "                        }\n",
       "                    </style>\n",
       "                    &nbsp;\n",
       "                  </div>\n",
       "                </div>"
      ],
      "text/plain": [
       "HtmlProgressBar cannot be displayed. Please use the TerminalProgressBar. It can be enabled with `nengo.rc['progress']['progress_bar'] = 'nengo.utils.progress.TerminalProgressBar'`."
      ]
     },
     "metadata": {},
     "output_type": "display_data"
    },
    {
     "data": {
      "application/vdom.v1+json": {
       "attributes": {
        "id": "d9ea0c91-9f06-474a-a872-63df1418aac8",
        "style": {
         "border": "1px solid #cfcfcf",
         "borderRadius": "4px",
         "boxSizing": "border-box",
         "position": "relative",
         "textAlign": "center",
         "width": "100%"
        }
       },
       "children": [
        {
         "attributes": {
          "class": "pb-text",
          "style": {
           "position": "absolute",
           "width": "100%"
          }
         },
         "children": [
          "Simulation finished in 0:00:01."
         ],
         "tagName": "div"
        },
        {
         "attributes": {
          "class": "pb-fill",
          "style": {
           "animation": "none",
           "backgroundColor": "#bdd2e6",
           "backgroundImage": "none",
           "transition": "width 0.1s linear",
           "width": "100%"
          }
         },
         "children": [
          {
           "attributes": {
            "scoped": "scoped",
            "type": "text/css"
           },
           "children": [
            "\n                        @keyframes pb-fill-anim {\n                            0% { background-position: 0 0; }\n                            100% { background-position: 100px 0; }\n                        }}"
           ],
           "tagName": "style"
          },
          " "
         ],
         "tagName": "div"
        }
       ],
       "tagName": "div"
      },
      "text/html": [
       "<script>\n",
       "              (function () {\n",
       "                  var root = document.getElementById('c139a254-410a-4b3c-9540-ecbf88bdbe70');\n",
       "                  var text = root.getElementsByClassName('pb-text')[0];\n",
       "                  var fill = root.getElementsByClassName('pb-fill')[0];\n",
       "\n",
       "                  text.innerHTML = 'Simulation finished in 0:00:01.';\n",
       "                  \n",
       "            if (100.0 > 0.) {\n",
       "                fill.style.transition = 'width 0.1s linear';\n",
       "            } else {\n",
       "                fill.style.transition = 'none';\n",
       "            }\n",
       "\n",
       "            fill.style.width = '100.0%';\n",
       "            fill.style.animation = 'none';\n",
       "            fill.style.backgroundImage = 'none'\n",
       "        \n",
       "                  \n",
       "                fill.style.animation = 'none';\n",
       "                fill.style.backgroundImage = 'none';\n",
       "            \n",
       "              })();\n",
       "        </script>"
      ]
     },
     "metadata": {},
     "output_type": "display_data"
    },
    {
     "data": {
      "image/png": "[encoded data removed]",
      "text/plain": [
       "<Figure size 640x480 with 1 Axes>"
      ]
     },
     "metadata": {},
     "output_type": "display_data"
    }
   ],
   "source": [
    "# Build the simulator to run the model containing just input encoding\n",
    "with nengo.Simulator(model) as sim:\n",
    "    # Run it for 1 second\n",
    "    sim.run(0.5)\n",
    "\n",
    "# Plot the input signals and decoded ensemble values\n",
    "t = sim.trange()\n",
    "plt.figure()\n",
    "plt.plot(sim.trange(), sim.data[input_probe_neurons], label=\"Encoded Inputs\")\n",
    "plt.plot(sim.trange(), sim.data[input_probe_nodes], label=\"Input Nodes\")\n",
    "plt.legend()\n",
    "# plt.ylim(0, 1.5)\n",
    "plt.xlabel(\"time [s]\")\n",
    "plt.title(\"Encoded Input Values\")\n",
    "plt.show()"
   ]
  },
  {
   "cell_type": "markdown",
   "metadata": {
    "id": "GVEl2ZdARMhN"
   },
   "source": [
    "### Set up neurons to perform the comparisons required for Bubble Sort\n",
    "\n",
    "We need neuron ensembles to compare each of the inputs from left to right, two at a time.\n",
    "\n",
    "From the details on the Bubble Sort algorithm, for an array of four values, you will need to perform a compare function 6 times to sort the array into ascending order. To generalize, you can compute [the function](https://en.wikipedia.org/wiki/Triangular_number)\n",
    "\n",
    "$$\\sum_ {k=1} ^{n-1} k = \\frac{(n-1)n}{2}$$\n",
    "\n",
    "or\n",
    "\n",
    "$$nCr = \\frac{n!}{r!(n-r)!}$$\n",
    "\n",
    "\n",
    "Due to the nature of Nengo, for each of these nCr comparisons, we need a 2D neuron `combine_neuron_N` to take in the two digits to be compared, then connect the output of that neuron to a neuron that represents the greater value `larger_neuron_N` and a neuron that represents the smaller value `smaller_neuron_N`.\n",
    "\n",
    "Notice that we set up all of these ensembles exactly as we did for our input encoding, except our comparator neurons are 2D to recieve two neuron inputs that will remain distinct inputs so they can be compared (versus all coming in at once, which would just add the input spikes).\n",
    "\n",
    "**Do not hardcode the number of combinations or any of your dimensions!!**\n",
    "\n",
    "Fill in all `???` with the appropriate code."
   ]
  },
  {
   "cell_type": "code",
   "execution_count": 97,
   "metadata": {},
   "outputs": [
    {
     "name": "stdout",
     "output_type": "stream",
     "text": [
      "6\n"
     ]
    }
   ],
   "source": [
    "num_combos = int((input_array.size - 1) * input_array.size / 2)\n",
    "print(num_combos)\n",
    "with model:\n",
    "    # you will need number of neurons and number dimensions as input arguments for all neuron ensembles\n",
    "\n",
    "    combine_neuron = nengo.Ensemble(100 * num_combos * 2, dimensions=num_combos * 2)\n",
    "    # no\n",
    "    larger_neuron = nengo.Ensemble(100 * input_array.size, dimensions=num_combos)\n",
    "\n",
    "    smaller_neuron = nengo.Ensemble(100 * input_array.size, dimensions=num_combos)"
   ]
  },
  {
   "cell_type": "markdown",
   "metadata": {
    "id": "NJgPi2MPRzC9"
   },
   "source": [
    "We now have neurons set aside to perform the comparison functions, but in order to actually do so the network must train weights to compute the comparison of two values at a time.\n",
    "\n",
    "In Nengo, we define a function that trains weights between each `combine_neurons` and `larger_neurons` such that the greater value is returned from the `larger_neurons` ensemble.\n",
    "\n",
    "Similarly we define a function that trains weights between each `combine_neurons` and `smaller_neurons` such that the lower value is returned from the `smaller_neurons` ensemble."
   ]
  },
  {
   "cell_type": "code",
   "execution_count": 98,
   "metadata": {
    "id": "hBiDRTmyRyzO"
   },
   "outputs": [],
   "source": [
    "with model:\n",
    "    # Create a function to return the largest value\n",
    "    def higher_val(x):\n",
    "        return np.max(x)\n",
    "\n",
    "    # Create a function to return the smaller value\n",
    "    def lower_val(x):\n",
    "        return np.min(x)"
   ]
  },
  {
   "cell_type": "markdown",
   "metadata": {
    "id": "HGuwtrA_Teuu"
   },
   "source": [
    "## Connect all the things!\n",
    "\n",
    "Now we need to connect all of our neurons to sort. Here's where things get messy! You may want to draw yourself a block diagram to know what goes where. \n",
    "\n",
    "**NOTE: you absolutely can generalize your connections if your'e feeling up to it. However, start with hardcoding for an array of 4 values. Bonus points if you can generalize and use `for` loops to assign connections!**\n",
    "\n",
    "Hints:\n",
    "- Your first two elements go into the first compare. Each subsequent element from there goes into the second, third, and so forth, respectively (i.e. 3rd element into 2nd compare, 4th element into 3rd compare, etc).\n",
    "- Your `higher_neuron` outputs go into the following compare until you are at the end of your pass (i.e. the `higher_neuron` out of the first compare goes into the second compare, etc). At the end of your pass, you have your highest (now sorted) element for the pass and is therefore an output of your network (i.e. first pass leaves you with your highest element, second with your second highest, etc).\n",
    "- You can repeat this process for each of the `lower_neuron` arrays. For the second pass, similarly the first two `lower_neuron` outputs go into the 1st compare, 3rd into the 2nd, etc.\n",
    "- Use Lecture 16's notebook for reference on correct connections.\n",
    "\n",
    "**You're rolling solo for this portion of the exercise, no `???`, just do it!**\n"
   ]
  },
  {
   "cell_type": "code",
   "execution_count": 99,
   "metadata": {},
   "outputs": [],
   "source": [
    "with model:\n",
    "    # This breakdown may be useful if you are hardcoding for a 4-element input array\n",
    "\n",
    "    # -- FIRST PASS --\n",
    "    # Compare 1\n",
    "    nengo.Connection(input_neuron[0], combine_neuron[0])\n",
    "    nengo.Connection(input_neuron[1], combine_neuron[1])\n",
    "\n",
    "    nengo.Connection(combine_neuron[[0, 1]], smaller_neuron[0], function=lower_val)\n",
    "    nengo.Connection(combine_neuron[[0, 1]], larger_neuron[0], function=higher_val)\n",
    "\n",
    "    # Compare 2\n",
    "    nengo.Connection(larger_neuron[0], combine_neuron[2])\n",
    "    nengo.Connection(input_neuron[2], combine_neuron[3])\n",
    "\n",
    "    nengo.Connection(combine_neuron[[2, 3]], smaller_neuron[1], function=lower_val)\n",
    "    nengo.Connection(combine_neuron[[2, 3]], larger_neuron[1], function=higher_val)\n",
    "\n",
    "    # Compare 3\n",
    "    nengo.Connection(larger_neuron[1], combine_neuron[4])\n",
    "    nengo.Connection(input_neuron[3], combine_neuron[5])\n",
    "\n",
    "    nengo.Connection(combine_neuron[[4, 5]], smaller_neuron[2], function=lower_val)\n",
    "    nengo.Connection(combine_neuron[[4, 5]], larger_neuron[2], function=higher_val)\n",
    "\n",
    "    # -- SECOND PASS -- i=1\n",
    "    # Compare 1\n",
    "    nengo.Connection(smaller_neuron[0], combine_neuron[6])\n",
    "    nengo.Connection(smaller_neuron[2], combine_neuron[7])\n",
    "\n",
    "    nengo.Connection(combine_neuron[[6, 7]], smaller_neuron[3], function=lower_val)\n",
    "    nengo.Connection(combine_neuron[[6, 7]], larger_neuron[3], function=higher_val)\n",
    "\n",
    "    # Compare 2\n",
    "    nengo.Connection(larger_neuron[3], combine_neuron[8])\n",
    "    nengo.Connection(smaller_neuron[2], combine_neuron[9])\n",
    "\n",
    "    nengo.Connection(combine_neuron[[8, 9]], smaller_neuron[4], function=lower_val)\n",
    "    nengo.Connection(combine_neuron[[8, 9]], larger_neuron[4], function=higher_val)\n",
    "\n",
    "    # -- THIRD PASS -- i=2\n",
    "    # Compare 1\n",
    "    nengo.Connection(smaller_neuron[3], combine_neuron[10])\n",
    "    nengo.Connection(smaller_neuron[4], combine_neuron[11])\n",
    "\n",
    "    nengo.Connection(\n",
    "        combine_neuron[[10, 11]], smaller_neuron[5], function=lower_val\n",
    "    )  # output 1\n",
    "    nengo.Connection(\n",
    "        combine_neuron[[10, 11]], larger_neuron[5], function=higher_val\n",
    "    )  # output 2\n",
    "\n",
    "    # For loop attempt\n",
    "    # num_elements = 4  # Number of elements to sort\n",
    "    # num_passes = input_array.size-1\n",
    "    # for i in range(num_passes):\n",
    "    #     for j in range(num_elements - 1 - i):\n",
    "    #         # Indexing for combine neurons\n",
    "    #         combine_idx = i *2* (num_elements - 1-j) + j\n",
    "    #         next_comp_idx = j*2+1\n",
    "\n",
    "    #         # Initial comparison\n",
    "    #         if i == 0 and j==0:\n",
    "    #             # Connect input neurons to combine neurons for comparison\n",
    "    #             nengo.Connection(input_neuron[j], combine_neuron[combine_idx])\n",
    "    #             nengo.Connection(input_neuron[j + 1], combine_neuron[combine_idx + 1])\n",
    "    #         else:\n",
    "    #             # Feedback mechanism: use the result of previous comparisons\n",
    "    #             nengo.Connection(larger_neuron[combine_idx // 2 - 1], combine_neuron[next_comp_idx])\n",
    "    #             if j != 0:  # For all but the first comparison in each pass\n",
    "    #                 nengo.Connection(smaller_neuron[combine_idx // 2 - 1], combine_neuron[next_comp_idx + 1])\n",
    "\n",
    "    #         # Connections from combine to larger and smaller neurons\n",
    "    #         nengo.Connection(combine_neuron[[combine_idx, combine_idx + 1]], smaller_neuron[combine_idx // 2], function=lower_val)\n",
    "    #         nengo.Connection(combine_neuron[[combine_idx, combine_idx + 1]], larger_neuron[combine_idx // 2], function=higher_val)\n",
    "\n",
    "    #         # For the first comparison of each pass after the first, connect from the previous pass's smaller output\n",
    "    #         if i > 0 and j == 0:\n",
    "    #             nengo.Connection(smaller_neuron[(i - 1) * (num_elements - 1) - 1], combine_neuron[next_comp_idx + 1])"
   ]
  },
  {
   "cell_type": "markdown",
   "metadata": {
    "id": "cYaHxXuZc-O5"
   },
   "source": [
    "Add probes to the output so that we can see how well our neurons sorted our input array."
   ]
  },
  {
   "cell_type": "code",
   "execution_count": 100,
   "metadata": {
    "id": "AXae7R73euxS"
   },
   "outputs": [],
   "source": [
    "with model:\n",
    "    # add probes to output neurons\n",
    "    out_probe_smaller = nengo.Probe(smaller_neuron, synapse=0.1)\n",
    "    out_probe_larger = nengo.Probe(larger_neuron, synapse=0.1)\n",
    "    compare_probes = nengo.Probe(combine_neuron, synapse=0.01)"
   ]
  },
  {
   "cell_type": "markdown",
   "metadata": {
    "id": "4Z7BGJqXfJNy"
   },
   "source": [
    "Create your simulator to run the neuron dynamics over time"
   ]
  },
  {
   "cell_type": "code",
   "execution_count": 101,
   "metadata": {
    "colab": {
     "base_uri": "https://localhost:8080/",
     "height": 76
    },
    "id": "OaBSTRqmfMHi",
    "outputId": "034dc7a9-111a-4926-d3c4-70f892248d8b"
   },
   "outputs": [
    {
     "data": {
      "application/vdom.v1+json": {
       "attributes": {},
       "tagName": "div"
      },
      "text/html": [
       "\n",
       "                <script>\n",
       "                    if (Jupyter.version.split(\".\")[0] < 5) {\n",
       "                        var pb = document.getElementById(\"4f24a4de-4dce-4704-a916-926e293449ec\");\n",
       "                        var text = document.createTextNode(\n",
       "                            \"HMTL progress bar requires Jupyter Notebook >= \" +\n",
       "                            \"5.0 or Jupyter Lab. Alternatively, you can use \" +\n",
       "                            \"TerminalProgressBar().\");\n",
       "                        pb.parentNode.insertBefore(text, pb);\n",
       "                    }\n",
       "                </script>\n",
       "                <div id=\"4f24a4de-4dce-4704-a916-926e293449ec\" style=\"\n",
       "                    width: 100%;\n",
       "                    border: 1px solid #cfcfcf;\n",
       "                    border-radius: 4px;\n",
       "                    text-align: center;\n",
       "                    position: relative;\">\n",
       "                  <div class=\"pb-text\" style=\"\n",
       "                      position: absolute;\n",
       "                      width: 100%;\">\n",
       "                    0%\n",
       "                  </div>\n",
       "                  <div class=\"pb-fill\" style=\"\n",
       "                      background-color: #bdd2e6;\n",
       "                      width: 0%;\">\n",
       "                    <style type=\"text/css\" scoped=\"scoped\">\n",
       "                        @keyframes pb-fill-anim {\n",
       "                            0% { background-position: 0 0; }\n",
       "                            100% { background-position: 100px 0; }\n",
       "                        }\n",
       "                    </style>\n",
       "                    &nbsp;\n",
       "                  </div>\n",
       "                </div>"
      ],
      "text/plain": [
       "HtmlProgressBar cannot be displayed. Please use the TerminalProgressBar. It can be enabled with `nengo.rc['progress']['progress_bar'] = 'nengo.utils.progress.TerminalProgressBar'`."
      ]
     },
     "metadata": {},
     "output_type": "display_data"
    },
    {
     "data": {
      "application/vdom.v1+json": {
       "attributes": {
        "id": "39d3b1fd-a071-4f99-aef4-6cc02f318e4a",
        "style": {
         "border": "1px solid #cfcfcf",
         "borderRadius": "4px",
         "boxSizing": "border-box",
         "position": "relative",
         "textAlign": "center",
         "width": "100%"
        }
       },
       "children": [
        {
         "attributes": {
          "class": "pb-text",
          "style": {
           "position": "absolute",
           "width": "100%"
          }
         },
         "children": [
          "Building… 23%, ETA: 0:00:02"
         ],
         "tagName": "div"
        },
        {
         "attributes": {
          "class": "pb-fill",
          "style": {
           "animation": "none",
           "backgroundColor": "#bdd2e6",
           "backgroundImage": "none",
           "transition": "width 0.1s linear",
           "width": "23%"
          }
         },
         "children": [
          {
           "attributes": {
            "scoped": "scoped",
            "type": "text/css"
           },
           "children": [
            "\n                        @keyframes pb-fill-anim {\n                            0% { background-position: 0 0; }\n                            100% { background-position: 100px 0; }\n                        }}"
           ],
           "tagName": "style"
          },
          " "
         ],
         "tagName": "div"
        }
       ],
       "tagName": "div"
      },
      "text/html": [
       "<script>\n",
       "              (function () {\n",
       "                  var root = document.getElementById('4f24a4de-4dce-4704-a916-926e293449ec');\n",
       "                  var text = root.getElementsByClassName('pb-text')[0];\n",
       "                  var fill = root.getElementsByClassName('pb-fill')[0];\n",
       "\n",
       "                  text.innerHTML = 'Building&hellip; 23%, ETA: 0:00:02';\n",
       "                  \n",
       "            if (23.076923076923077 > 0.) {\n",
       "                fill.style.transition = 'width 0.1s linear';\n",
       "            } else {\n",
       "                fill.style.transition = 'none';\n",
       "            }\n",
       "\n",
       "            fill.style.width = '23.076923076923077%';\n",
       "            fill.style.animation = 'none';\n",
       "            fill.style.backgroundImage = 'none'\n",
       "        \n",
       "                  \n",
       "              })();\n",
       "        </script>"
      ]
     },
     "metadata": {},
     "output_type": "display_data"
    },
    {
     "data": {
      "application/vdom.v1+json": {
       "attributes": {},
       "tagName": "div"
      },
      "text/html": [
       "\n",
       "                <script>\n",
       "                    if (Jupyter.version.split(\".\")[0] < 5) {\n",
       "                        var pb = document.getElementById(\"6e238edf-e5fa-4d99-84e2-2de838c6a667\");\n",
       "                        var text = document.createTextNode(\n",
       "                            \"HMTL progress bar requires Jupyter Notebook >= \" +\n",
       "                            \"5.0 or Jupyter Lab. Alternatively, you can use \" +\n",
       "                            \"TerminalProgressBar().\");\n",
       "                        pb.parentNode.insertBefore(text, pb);\n",
       "                    }\n",
       "                </script>\n",
       "                <div id=\"6e238edf-e5fa-4d99-84e2-2de838c6a667\" style=\"\n",
       "                    width: 100%;\n",
       "                    border: 1px solid #cfcfcf;\n",
       "                    border-radius: 4px;\n",
       "                    text-align: center;\n",
       "                    position: relative;\">\n",
       "                  <div class=\"pb-text\" style=\"\n",
       "                      position: absolute;\n",
       "                      width: 100%;\">\n",
       "                    0%\n",
       "                  </div>\n",
       "                  <div class=\"pb-fill\" style=\"\n",
       "                      background-color: #bdd2e6;\n",
       "                      width: 0%;\">\n",
       "                    <style type=\"text/css\" scoped=\"scoped\">\n",
       "                        @keyframes pb-fill-anim {\n",
       "                            0% { background-position: 0 0; }\n",
       "                            100% { background-position: 100px 0; }\n",
       "                        }\n",
       "                    </style>\n",
       "                    &nbsp;\n",
       "                  </div>\n",
       "                </div>"
      ],
      "text/plain": [
       "HtmlProgressBar cannot be displayed. Please use the TerminalProgressBar. It can be enabled with `nengo.rc['progress']['progress_bar'] = 'nengo.utils.progress.TerminalProgressBar'`."
      ]
     },
     "metadata": {},
     "output_type": "display_data"
    },
    {
     "data": {
      "application/vdom.v1+json": {
       "attributes": {
        "id": "ccbbeaa2-e209-42a9-a6f8-faa2add85483",
        "style": {
         "border": "1px solid #cfcfcf",
         "borderRadius": "4px",
         "boxSizing": "border-box",
         "position": "relative",
         "textAlign": "center",
         "width": "100%"
        }
       },
       "children": [
        {
         "attributes": {
          "class": "pb-text",
          "style": {
           "position": "absolute",
           "width": "100%"
          }
         },
         "children": [
          "Simulation finished in 0:00:05."
         ],
         "tagName": "div"
        },
        {
         "attributes": {
          "class": "pb-fill",
          "style": {
           "animation": "none",
           "backgroundColor": "#bdd2e6",
           "backgroundImage": "none",
           "transition": "width 0.1s linear",
           "width": "100%"
          }
         },
         "children": [
          {
           "attributes": {
            "scoped": "scoped",
            "type": "text/css"
           },
           "children": [
            "\n                        @keyframes pb-fill-anim {\n                            0% { background-position: 0 0; }\n                            100% { background-position: 100px 0; }\n                        }}"
           ],
           "tagName": "style"
          },
          " "
         ],
         "tagName": "div"
        }
       ],
       "tagName": "div"
      },
      "text/html": [
       "<script>\n",
       "              (function () {\n",
       "                  var root = document.getElementById('6e238edf-e5fa-4d99-84e2-2de838c6a667');\n",
       "                  var text = root.getElementsByClassName('pb-text')[0];\n",
       "                  var fill = root.getElementsByClassName('pb-fill')[0];\n",
       "\n",
       "                  text.innerHTML = 'Simulation finished in 0:00:05.';\n",
       "                  \n",
       "            if (100.0 > 0.) {\n",
       "                fill.style.transition = 'width 0.1s linear';\n",
       "            } else {\n",
       "                fill.style.transition = 'none';\n",
       "            }\n",
       "\n",
       "            fill.style.width = '100.0%';\n",
       "            fill.style.animation = 'none';\n",
       "            fill.style.backgroundImage = 'none'\n",
       "        \n",
       "                  \n",
       "                fill.style.animation = 'none';\n",
       "                fill.style.backgroundImage = 'none';\n",
       "            \n",
       "              })();\n",
       "        </script>"
      ]
     },
     "metadata": {},
     "output_type": "display_data"
    }
   ],
   "source": [
    "with nengo.Simulator(model) as sim:\n",
    "    # Run it for 2 seconds\n",
    "    sim.run(2)"
   ]
  },
  {
   "cell_type": "markdown",
   "metadata": {
    "id": "IU76Mt_cfa7q"
   },
   "source": [
    "### Plot the data!\n",
    "\n",
    "You will need to probe the appropriate output probes to show your final sorted array. For instance, your largest value will likely be `sim.data[out_probe_larger][:,2]` if you do your first pass comparisons using the first 3 comparison pairs out of your `combine_neurons`."
   ]
  },
  {
   "cell_type": "code",
   "execution_count": 102,
   "metadata": {},
   "outputs": [
    {
     "name": "stdout",
     "output_type": "stream",
     "text": [
      "Input Array = [-0.5  0.6 -0.3  0.4]\n",
      "output\n"
     ]
    },
    {
     "data": {
      "image/png": "[encoded data removed]",
      "text/plain": [
       "<Figure size 640x480 with 1 Axes>"
      ]
     },
     "metadata": {},
     "output_type": "display_data"
    }
   ],
   "source": [
    "print(\"Input Array =\", input_array)\n",
    "print(\n",
    "    \"output\",\n",
    ")\n",
    "## Plot the results!\n",
    "# Plot the input signals and decoded ensemble values\n",
    "t = sim.trange()\n",
    "plt.figure()\n",
    "plt.plot(sim.trange(), sim.data[out_probe_smaller][:, 5], label=\"Sorted: 1st Value\")\n",
    "plt.plot(sim.trange(), sim.data[out_probe_larger][:, 5], label=\"Sorted: 2nd Value\")\n",
    "plt.plot(sim.trange(), sim.data[out_probe_larger][:, 4], label=\"Sorted: 3rd Value\")\n",
    "plt.plot(sim.trange(), sim.data[out_probe_larger][:, 0], label=\"Sorted: 4th Value\")\n",
    "# plt.plot(sim.trange(), sim.data[compare_probes][:,1], label=\"combine\")\n",
    "plt.legend()\n",
    "# plt.ylim(0, 1.5)\n",
    "plt.xlabel(\"time [s]\")\n",
    "plt.title(\"Sorted Array\")\n",
    "plt.show()"
   ]
  },
  {
   "cell_type": "markdown",
   "metadata": {
    "id": "Q22sCtKMiFMz"
   },
   "source": [
    "## Discussion\n",
    "\n",
    "Notice that your output values are not precise. Consider why:\n",
    "- Your inputs go directly into your 12-dimensional combine neuron ensemble\n",
    "- For your third input array element, it gets compared to an output from the combine neuron - which means there's a delay on that input! \n",
    "- This means your output of the 2nd set of comparison functions is _biased_ by your input. \n",
    "- This bias gets propogated throughout your computations. \n",
    "- You can see this happening in the decoded outputs - it fluctuates up and down for your second and third sorted values.\n",
    "\n",
    "**Ensure this makes sense to you! It will be a common issue as we continue to map algorithms to neurons.**\n"
   ]
  }
 ],
 "metadata": {
  "colab": {
   "provenance": []
  },
  "kernelspec": {
   "display_name": "Python 3",
   "name": "python3"
  },
  "language_info": {
   "codemirror_mode": {
    "name": "ipython",
    "version": 3
   },
   "file_extension": ".py",
   "mimetype": "text/x-python",
   "name": "python",
   "nbconvert_exporter": "python",
   "pygments_lexer": "ipython3",
   "version": "3.10.13"
  }
 },
 "nbformat": 4,
 "nbformat_minor": 0
}
