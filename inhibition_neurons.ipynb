{
 "cells": [
  {
   "cell_type": "markdown",
   "metadata": {},
   "source": [
    "## ECE495 Inhibitory Neurons - Tutorial\n",
    "\n",
    "This tutorial covers the following:\n",
    "- Performing inhibitions with neurons\n",
    "- How to interpret results _as you go_ and adjust code to get the results you want"
   ]
  },
  {
   "cell_type": "markdown",
   "metadata": {},
   "source": [
    "#### Set up\n",
    "\n",
    "**Ensure you are using your [495 Virtual Environment](https://github.com/kaitlin-fair/495venv_setup) before you begin!**  \n",
    "    \n",
    "Import Nengo and other supporting libraries into your program to get started:"
   ]
  },
  {
   "cell_type": "code",
   "execution_count": 1,
   "metadata": {},
   "outputs": [],
   "source": [
    "import matplotlib.pyplot as plt\n",
    "import numpy as np\n",
    "\n",
    "import nengo\n",
    "\n",
    "from nengo.processes import Piecewise\n",
    "from nengo.dists import Uniform"
   ]
  },
  {
   "cell_type": "markdown",
   "metadata": {},
   "source": [
    "### Motivation\n",
    "\n",
    "There's [a tutorial](https://www.nengo.ai/nengo/examples/advanced/inhibitory-gating.html) provided by the Nengo creators where a neuron ensemble is used to inhibit another. This got me thinking - we should be able to use neurons to inhibit our map neurons in our path planning algorithm. \n"
   ]
  },
  {
   "cell_type": "markdown",
   "metadata": {},
   "source": [
    "### Attempt 1\n",
    "\n",
    "So... I tried. I got rid of my inhibition function within my delay node and I began by feeding back my neuron output at each map location to its own delay node with a transform of -10, much like what the tutorial did:\n",
    "\n",
    "`nengo.Connection(map_neurons[i], delay_nodes[i], transform=[[-10]])`\n",
    "\n",
    "For my 3x3 map, I sometimes got the right path (which of course led me to believe something wasn't right), but the neuron outputs were all over the place! Let's take a look (Keys v1 and v2). I now had negative outputs all over the place! and the whole point is to make everything go to zero.\n",
    "\n",
    "_NOTE: when trying to figure out what's going wrong with my code, I looked at each neuron's output to see if it made sense to me._ If you are still running into issues with your lab, START DOING THIS.\n",
    "\n",
    "**How could I make all values go to zero instead of allowing any negative representations??**"
   ]
  },
  {
   "cell_type": "markdown",
   "metadata": {},
   "source": [
    "### Attempt 2\n",
    "\n",
    "I adjusted my encoders and intercepts to only allow positive values through. Let's look at the results (KEY v2B). \n",
    "\n",
    "_NOT GOOD._ I no longer have negative values, but I'm spiking forever! I'm not actually inhibiting anything!\n",
    "\n",
    "I was infuriated! I knew this should work, ranted about it, and was given the recommendation to try it with just one neuron, so here we go."
   ]
  },
  {
   "cell_type": "markdown",
   "metadata": {},
   "source": [
    "### One Neuron Testing - Attempt 3\n",
    "\n",
    "This is something you will want to do on your final project: _start small_\n",
    "\n",
    "Using just one neuron, I learned SO MUCH."
   ]
  },
  {
   "cell_type": "code",
   "execution_count": null,
   "metadata": {},
   "outputs": [],
   "source": [
    "model = nengo.Network(label=\"OneNeuronInhibition\")\n",
    "with model:\n",
    "    inp_node = nengo.Node(\n",
    "        Piecewise({0: 1, 0.25: 0, 3: 1})\n",
    "    )  # quick spike into start node\n",
    "\n",
    "    n_neurons_map = 500\n",
    "    map_neurons = nengo.Ensemble(\n",
    "        n_neurons=n_neurons_map,\n",
    "        dimensions=1,\n",
    "        intercepts=Uniform(0, 0.9),\n",
    "        encoders=np.tile([[1]], (n_neurons_map, 1)),\n",
    "    )\n",
    "\n",
    "    nengo.Connection(inp_node, map_neurons)\n",
    "    nengo.Connection(map_neurons, map_neurons, transform=[[-10]])  # inhibition feedback\n",
    "\n",
    "    map_probes = nengo.Probe(map_neurons, synapse=0.01)\n",
    "    inp_probe = nengo.Probe(inp_node, synapse=0.01)\n",
    "\n",
    "sim_time = 4\n",
    "with nengo.Simulator(model) as sim:\n",
    "    # Run it for 2 seconds\n",
    "    sim.run(sim_time)\n",
    "\n",
    "plt.figure()\n",
    "plt.plot(sim.trange(), sim.data[inp_probe], label=\"Input\")\n",
    "plt.plot(sim.trange(), sim.data[map_probes], label=\"Neuron\")\n",
    "plt.legend(loc=1)\n",
    "plt.xlabel(\"time [s]\")\n",
    "plt.title(\"One Neuron - Attempt 3\")\n",
    "plt.show()"
   ]
  },
  {
   "cell_type": "markdown",
   "metadata": {},
   "source": [
    "Okay, reasons this isn't good:\n",
    "- The amplitude TANKED. There's no way that's making it all the way through a map.\n",
    "- It still spikes later.\n",
    "\n",
    "**Why do you think this is??**"
   ]
  },
  {
   "cell_type": "markdown",
   "metadata": {},
   "source": [
    "### One Neuron Testing - Attempt 4\n",
    "\n",
    "Because neurons constantly spike and feedback, we start inhibiting right away so we lose a lot. \n",
    "\n",
    "Let's add a delay so the whole spike makes it through, then we inhibit!"
   ]
  },
  {
   "cell_type": "code",
   "execution_count": null,
   "metadata": {},
   "outputs": [],
   "source": [
    "# We'll make a simple object to implement the delayed connection\n",
    "class Delay:\n",
    "    def __init__(self, dimensions, timesteps=50):\n",
    "        self.history = np.zeros((timesteps, dimensions))\n",
    "\n",
    "    def step(self, t, x):\n",
    "        self.history = np.roll(self.history, -1)\n",
    "        self.history[-1] = x\n",
    "        return self.history[0]\n",
    "\n",
    "\n",
    "dt = 0.001\n",
    "timesteps = 0.25\n",
    "delay = Delay(1, timesteps=int(timesteps / dt))\n",
    "\n",
    "model = nengo.Network(label=\"OneNeuronInhibition2\")\n",
    "with model:\n",
    "    inp_node = nengo.Node(\n",
    "        Piecewise({0: 1, 0.25: 0, 3: 1})\n",
    "    )  # quick spike into start node\n",
    "\n",
    "    delay_node = nengo.Node(delay.step, size_in=1, size_out=1)\n",
    "\n",
    "    n_neurons_map = 500\n",
    "    map_neurons = nengo.Ensemble(\n",
    "        n_neurons=n_neurons_map,\n",
    "        dimensions=1,\n",
    "        intercepts=Uniform(0, 0.9),\n",
    "        encoders=np.tile([[1]], (n_neurons_map, 1)),\n",
    "    )\n",
    "\n",
    "    nengo.Connection(inp_node, map_neurons)\n",
    "    nengo.Connection(map_neurons, delay_node)\n",
    "    nengo.Connection(delay_node, map_neurons, transform=[[-10]])  # inhibition feedback\n",
    "\n",
    "    map_probes = nengo.Probe(map_neurons, synapse=0.01)\n",
    "    delay_probe = nengo.Probe(delay_node, synapse=0.01)\n",
    "    inp_probe = nengo.Probe(inp_node, synapse=0.01)\n",
    "\n",
    "sim_time = 4\n",
    "with nengo.Simulator(model) as sim:\n",
    "    # Run it for 2 seconds\n",
    "    sim.run(sim_time)\n",
    "\n",
    "plt.figure()\n",
    "plt.plot(sim.trange(), sim.data[inp_probe], label=\"Input\")\n",
    "plt.plot(sim.trange(), sim.data[delay_probe], label=\"Delay\")\n",
    "plt.plot(sim.trange(), sim.data[map_probes], label=\"Neuron\")\n",
    "plt.legend()\n",
    "plt.xlabel(\"time [s]\")\n",
    "plt.title(\"One Neuron - Attempt 4\")\n",
    "plt.show()"
   ]
  },
  {
   "cell_type": "markdown",
   "metadata": {},
   "source": [
    "My amplitude is back (yay?), but\n",
    "- I still fire later\n",
    "- For a constant input, I only inhibit for the duration of the delay\n",
    "\n",
    "We are getting somewhere, **but what else could we do??**\n",
    "\n",
    "We need a neuron that once it starts firing, it never stops firing. **Where have we seen that happen before?**\n"
   ]
  },
  {
   "cell_type": "markdown",
   "metadata": {},
   "source": [
    "### One Neuron Testing - Attempt 5\n",
    "\n",
    "We add a dedicated inhibition neuron!"
   ]
  },
  {
   "cell_type": "code",
   "execution_count": 2,
   "metadata": {},
   "outputs": [
    {
     "data": {
      "application/vdom.v1+json": {
       "attributes": {},
       "tagName": "div"
      },
      "text/html": [
       "\n",
       "                <script>\n",
       "                    if (Jupyter.version.split(\".\")[0] < 5) {\n",
       "                        var pb = document.getElementById(\"8fe6247a-e2e3-405d-b0a5-637ecf4c0481\");\n",
       "                        var text = document.createTextNode(\n",
       "                            \"HMTL progress bar requires Jupyter Notebook >= \" +\n",
       "                            \"5.0 or Jupyter Lab. Alternatively, you can use \" +\n",
       "                            \"TerminalProgressBar().\");\n",
       "                        pb.parentNode.insertBefore(text, pb);\n",
       "                    }\n",
       "                </script>\n",
       "                <div id=\"8fe6247a-e2e3-405d-b0a5-637ecf4c0481\" style=\"\n",
       "                    width: 100%;\n",
       "                    border: 1px solid #cfcfcf;\n",
       "                    border-radius: 4px;\n",
       "                    text-align: center;\n",
       "                    position: relative;\">\n",
       "                  <div class=\"pb-text\" style=\"\n",
       "                      position: absolute;\n",
       "                      width: 100%;\">\n",
       "                    0%\n",
       "                  </div>\n",
       "                  <div class=\"pb-fill\" style=\"\n",
       "                      background-color: #bdd2e6;\n",
       "                      width: 0%;\">\n",
       "                    <style type=\"text/css\" scoped=\"scoped\">\n",
       "                        @keyframes pb-fill-anim {\n",
       "                            0% { background-position: 0 0; }\n",
       "                            100% { background-position: 100px 0; }\n",
       "                        }\n",
       "                    </style>\n",
       "                    &nbsp;\n",
       "                  </div>\n",
       "                </div>"
      ],
      "text/plain": [
       "HtmlProgressBar cannot be displayed. Please use the TerminalProgressBar. It can be enabled with `nengo.rc['progress']['progress_bar'] = 'nengo.utils.progress.TerminalProgressBar'`."
      ]
     },
     "metadata": {},
     "output_type": "display_data"
    },
    {
     "data": {
      "application/vdom.v1+json": {
       "attributes": {
        "id": "4f004ec7-4e5f-4a6d-8db7-985017a9d2f2",
        "style": {
         "border": "1px solid #cfcfcf",
         "borderRadius": "4px",
         "boxSizing": "border-box",
         "position": "relative",
         "textAlign": "center",
         "width": "100%"
        }
       },
       "children": [
        {
         "attributes": {
          "class": "pb-text",
          "style": {
           "position": "absolute",
           "width": "100%"
          }
         },
         "children": [
          "Build finished in 0:00:01."
         ],
         "tagName": "div"
        },
        {
         "attributes": {
          "class": "pb-fill",
          "style": {
           "animation": "none",
           "backgroundColor": "#bdd2e6",
           "backgroundImage": "none",
           "backgroundSize": "100px 100%",
           "width": "100%"
          }
         },
         "children": [
          {
           "attributes": {
            "scoped": "scoped",
            "type": "text/css"
           },
           "children": [
            "\n                        @keyframes pb-fill-anim {\n                            0% { background-position: 0 0; }\n                            100% { background-position: 100px 0; }\n                        }}"
           ],
           "tagName": "style"
          },
          " "
         ],
         "tagName": "div"
        }
       ],
       "tagName": "div"
      },
      "text/html": [
       "<script>\n",
       "              (function () {\n",
       "                  var root = document.getElementById('8fe6247a-e2e3-405d-b0a5-637ecf4c0481');\n",
       "                  var text = root.getElementsByClassName('pb-text')[0];\n",
       "                  var fill = root.getElementsByClassName('pb-fill')[0];\n",
       "\n",
       "                  text.innerHTML = 'Build finished in 0:00:01.';\n",
       "                  \n",
       "            fill.style.width = '100%';\n",
       "            fill.style.animation = 'pb-fill-anim 2s linear infinite';\n",
       "            fill.style.backgroundSize = '100px 100%';\n",
       "            fill.style.backgroundImage = 'repeating-linear-gradient(' +\n",
       "                '90deg, #bdd2e6, #edf2f8 40%, #bdd2e6 80%, #bdd2e6)';\n",
       "        \n",
       "                  \n",
       "                fill.style.animation = 'none';\n",
       "                fill.style.backgroundImage = 'none';\n",
       "            \n",
       "              })();\n",
       "        </script>"
      ]
     },
     "metadata": {},
     "output_type": "display_data"
    },
    {
     "data": {
      "application/vdom.v1+json": {
       "attributes": {},
       "tagName": "div"
      },
      "text/html": [
       "\n",
       "                <script>\n",
       "                    if (Jupyter.version.split(\".\")[0] < 5) {\n",
       "                        var pb = document.getElementById(\"e392a62d-e939-431d-8123-a87c4dbd49d5\");\n",
       "                        var text = document.createTextNode(\n",
       "                            \"HMTL progress bar requires Jupyter Notebook >= \" +\n",
       "                            \"5.0 or Jupyter Lab. Alternatively, you can use \" +\n",
       "                            \"TerminalProgressBar().\");\n",
       "                        pb.parentNode.insertBefore(text, pb);\n",
       "                    }\n",
       "                </script>\n",
       "                <div id=\"e392a62d-e939-431d-8123-a87c4dbd49d5\" style=\"\n",
       "                    width: 100%;\n",
       "                    border: 1px solid #cfcfcf;\n",
       "                    border-radius: 4px;\n",
       "                    text-align: center;\n",
       "                    position: relative;\">\n",
       "                  <div class=\"pb-text\" style=\"\n",
       "                      position: absolute;\n",
       "                      width: 100%;\">\n",
       "                    0%\n",
       "                  </div>\n",
       "                  <div class=\"pb-fill\" style=\"\n",
       "                      background-color: #bdd2e6;\n",
       "                      width: 0%;\">\n",
       "                    <style type=\"text/css\" scoped=\"scoped\">\n",
       "                        @keyframes pb-fill-anim {\n",
       "                            0% { background-position: 0 0; }\n",
       "                            100% { background-position: 100px 0; }\n",
       "                        }\n",
       "                    </style>\n",
       "                    &nbsp;\n",
       "                  </div>\n",
       "                </div>"
      ],
      "text/plain": [
       "HtmlProgressBar cannot be displayed. Please use the TerminalProgressBar. It can be enabled with `nengo.rc['progress']['progress_bar'] = 'nengo.utils.progress.TerminalProgressBar'`."
      ]
     },
     "metadata": {},
     "output_type": "display_data"
    },
    {
     "data": {
      "application/vdom.v1+json": {
       "attributes": {
        "id": "ef9df3bd-ea70-4b5b-b43c-6425835808f5",
        "style": {
         "border": "1px solid #cfcfcf",
         "borderRadius": "4px",
         "boxSizing": "border-box",
         "position": "relative",
         "textAlign": "center",
         "width": "100%"
        }
       },
       "children": [
        {
         "attributes": {
          "class": "pb-text",
          "style": {
           "position": "absolute",
           "width": "100%"
          }
         },
         "children": [
          "Simulation finished in 0:00:03."
         ],
         "tagName": "div"
        },
        {
         "attributes": {
          "class": "pb-fill",
          "style": {
           "animation": "none",
           "backgroundColor": "#bdd2e6",
           "backgroundImage": "none",
           "transition": "width 0.1s linear",
           "width": "100%"
          }
         },
         "children": [
          {
           "attributes": {
            "scoped": "scoped",
            "type": "text/css"
           },
           "children": [
            "\n                        @keyframes pb-fill-anim {\n                            0% { background-position: 0 0; }\n                            100% { background-position: 100px 0; }\n                        }}"
           ],
           "tagName": "style"
          },
          " "
         ],
         "tagName": "div"
        }
       ],
       "tagName": "div"
      },
      "text/html": [
       "<script>\n",
       "              (function () {\n",
       "                  var root = document.getElementById('e392a62d-e939-431d-8123-a87c4dbd49d5');\n",
       "                  var text = root.getElementsByClassName('pb-text')[0];\n",
       "                  var fill = root.getElementsByClassName('pb-fill')[0];\n",
       "\n",
       "                  text.innerHTML = 'Simulation finished in 0:00:03.';\n",
       "                  \n",
       "            if (100.0 > 0.) {\n",
       "                fill.style.transition = 'width 0.1s linear';\n",
       "            } else {\n",
       "                fill.style.transition = 'none';\n",
       "            }\n",
       "\n",
       "            fill.style.width = '100.0%';\n",
       "            fill.style.animation = 'none';\n",
       "            fill.style.backgroundImage = 'none'\n",
       "        \n",
       "                  \n",
       "                fill.style.animation = 'none';\n",
       "                fill.style.backgroundImage = 'none';\n",
       "            \n",
       "              })();\n",
       "        </script>"
      ]
     },
     "metadata": {},
     "output_type": "display_data"
    },
    {
     "data": {
      "image/png": "[encoded data removed]",
      "text/plain": [
       "<Figure size 640x480 with 1 Axes>"
      ]
     },
     "metadata": {},
     "output_type": "display_data"
    }
   ],
   "source": [
    "# We'll make a simple object to implement the delayed connection\n",
    "class Delay:\n",
    "    def __init__(self, dimensions, timesteps=50):\n",
    "        self.history = np.zeros((timesteps, dimensions))\n",
    "\n",
    "    def step(self, t, x):\n",
    "        self.history = np.roll(self.history, -1)\n",
    "        self.history[-1] = x\n",
    "        return self.history[0]\n",
    "\n",
    "\n",
    "dt = 0.001\n",
    "timesteps = 0.25\n",
    "delay = Delay(1, timesteps=int(timesteps / dt))\n",
    "\n",
    "model = nengo.Network(label=\"OneNeuronInhibition\")\n",
    "with model:\n",
    "    inp_node = nengo.Node(\n",
    "        Piecewise({0: 1, 0.25: 0, 3: 1})\n",
    "    )  # quick spike into start node\n",
    "\n",
    "    delay_node = nengo.Node(delay.step, size_in=1, size_out=1)\n",
    "\n",
    "    n_neurons_map = 500\n",
    "    map_neurons = nengo.Ensemble(\n",
    "        n_neurons=n_neurons_map,\n",
    "        dimensions=1,\n",
    "        intercepts=Uniform(0, 0.9),\n",
    "        encoders=np.tile([[1]], (n_neurons_map, 1)),\n",
    "    )\n",
    "\n",
    "    inhibition_neuron = nengo.Ensemble(\n",
    "        n_neurons=n_neurons_map, dimensions=1, max_rates=Uniform(100, 100)\n",
    "    )\n",
    "\n",
    "    nengo.Connection(inp_node, map_neurons)\n",
    "    nengo.Connection(map_neurons, delay_node)\n",
    "    nengo.Connection(delay_node, inhibition_neuron)\n",
    "    nengo.Connection(inhibition_neuron, inhibition_neuron, synapse=0.5)\n",
    "    nengo.Connection(\n",
    "        inhibition_neuron, map_neurons, transform=[[-10]]\n",
    "    )  # inhibition feedback\n",
    "\n",
    "    map_probes = nengo.Probe(map_neurons, synapse=0.01)\n",
    "    delay_probe = nengo.Probe(delay_node, synapse=0.01)\n",
    "    inhib_probe = nengo.Probe(inhibition_neuron, synapse=0.01)\n",
    "    inp_probe = nengo.Probe(inp_node, synapse=0.01)\n",
    "\n",
    "sim_time = 4\n",
    "with nengo.Simulator(model) as sim:\n",
    "    # Run it for 2 seconds\n",
    "    sim.run(sim_time)\n",
    "\n",
    "plt.figure()\n",
    "plt.plot(sim.trange(), sim.data[inp_probe], label=\"Input\")\n",
    "plt.plot(sim.trange(), sim.data[map_probes], label=\"Neuron\")\n",
    "plt.plot(sim.trange(), sim.data[delay_probe], label=\"Delay\")\n",
    "plt.plot(sim.trange(), sim.data[inhib_probe], label=\"Inhib\")\n",
    "plt.legend(loc=1)\n",
    "plt.xlabel(\"time [s]\")\n",
    "plt.title(\"One Neuron - Attempt 5\")\n",
    "plt.show()"
   ]
  },
  {
   "cell_type": "markdown",
   "metadata": {},
   "source": [
    "LOOK AT THAT BEAUTY! \n",
    "\n",
    "We get excited. We build a whole new neuron class. We throw it into our path planning algorithm and....\n",
    "\n",
    "Let's take a look (KEY v3).\n",
    "\n",
    "We have random neurons throughout the map spiking at the same time as the starting location?! That's not possible if we have delays (especially if we know this thing worked before we started these shenanigans).\n",
    "\n",
    "We look neuron by neuron and see that the delay sees nothing, the neuron just... fires?\n",
    "\n",
    "**Why on earth does this thing start randomly firing??**"
   ]
  },
  {
   "cell_type": "markdown",
   "metadata": {},
   "source": [
    "### One Neuron Testing - Attempt 6\n",
    "\n",
    "Back to one (freaking) neuron.\n",
    "\n",
    "We adjust our input to look more like a neuron that's waiting on a spike wave."
   ]
  },
  {
   "cell_type": "code",
   "execution_count": null,
   "metadata": {},
   "outputs": [],
   "source": [
    "# We'll make a simple object to implement the delayed connection\n",
    "class Delay:\n",
    "    def __init__(self, dimensions, timesteps=50):\n",
    "        self.history = np.zeros((timesteps, dimensions))\n",
    "\n",
    "    def step(self, t, x):\n",
    "        self.history = np.roll(self.history, -1)\n",
    "        self.history[-1] = x\n",
    "        # determine if its spiked and turn to 0\n",
    "        return self.history[0]\n",
    "\n",
    "\n",
    "dt = 0.001\n",
    "timesteps = 0.25\n",
    "delay = Delay(1, timesteps=int(timesteps / dt))\n",
    "\n",
    "model = nengo.Network(label=\"OneNeuronInhibition\")\n",
    "with model:\n",
    "    inp_node = nengo.Node(\n",
    "        Piecewise({0: 0, 1: 1, 1.25: 0, 2: 1})\n",
    "    )  # quick spike into start node\n",
    "\n",
    "    delay_node = nengo.Node(delay.step, size_in=1, size_out=1)\n",
    "\n",
    "    n_neurons_map = 500\n",
    "    map_neurons = nengo.Ensemble(\n",
    "        n_neurons=n_neurons_map,\n",
    "        dimensions=1,\n",
    "        intercepts=Uniform(0, 0.9),\n",
    "        encoders=np.tile([[1]], (n_neurons_map, 1)),\n",
    "    )\n",
    "\n",
    "    inhibition_neuron = nengo.Ensemble(\n",
    "        n_neurons=n_neurons_map, dimensions=1, max_rates=Uniform(100, 100)\n",
    "    )\n",
    "\n",
    "    nengo.Connection(inp_node, map_neurons)\n",
    "    nengo.Connection(map_neurons, delay_node)\n",
    "    nengo.Connection(delay_node, inhibition_neuron)\n",
    "    nengo.Connection(inhibition_neuron, inhibition_neuron, synapse=0.5)\n",
    "    nengo.Connection(\n",
    "        inhibition_neuron, map_neurons, transform=[[-10]]\n",
    "    )  # inhibition feedback\n",
    "\n",
    "    map_probes = nengo.Probe(map_neurons, synapse=0.01)\n",
    "    delay_probe = nengo.Probe(delay_node, synapse=0.01)\n",
    "    inhib_probe = nengo.Probe(inhibition_neuron, synapse=0.01)\n",
    "    inp_probe = nengo.Probe(inp_node, synapse=0.01)\n",
    "\n",
    "sim_time = 4\n",
    "with nengo.Simulator(model) as sim:\n",
    "    # Run it for 2 seconds\n",
    "    sim.run(sim_time)\n",
    "\n",
    "plt.figure()\n",
    "plt.plot(sim.trange(), sim.data[inp_probe], label=\"Input\")\n",
    "plt.plot(sim.trange(), sim.data[map_probes], label=\"Neuron\")\n",
    "plt.plot(sim.trange(), sim.data[delay_probe], label=\"Delay\")\n",
    "plt.plot(sim.trange(), sim.data[inhib_probe], label=\"Inhib\")\n",
    "plt.legend(loc=1)\n",
    "plt.xlabel(\"time [s]\")\n",
    "plt.title(\"One Neuron - Attempt 6\")\n",
    "plt.show()"
   ]
  },
  {
   "cell_type": "markdown",
   "metadata": {},
   "source": [
    "GROSS. Okay, so this is representative of what's happening throughout my map.\n",
    "\n",
    "**Why is it SO noisy at the start?!**"
   ]
  },
  {
   "cell_type": "markdown",
   "metadata": {},
   "source": [
    "### One Neuron Testing - Attempt 7 \n",
    "\n",
    "Okay, so now we decrease the weight of the feedback transform. The minor noise gets amplified to the point that the map neuron thinks it's an input and we get a false first spike. Let's dial it back:"
   ]
  },
  {
   "cell_type": "code",
   "execution_count": null,
   "metadata": {},
   "outputs": [],
   "source": [
    "# We'll make a simple object to implement the delayed connection\n",
    "class Delay:\n",
    "    def __init__(self, dimensions, timesteps=50):\n",
    "        self.history = np.zeros((timesteps, dimensions))\n",
    "\n",
    "    def step(self, t, x):\n",
    "        self.history = np.roll(self.history, -1)\n",
    "        self.history[-1] = x\n",
    "        return self.history[0]\n",
    "\n",
    "\n",
    "dt = 0.001\n",
    "timesteps = 0.25\n",
    "delay = Delay(1, timesteps=int(timesteps / dt))\n",
    "\n",
    "model = nengo.Network(label=\"OneNeuronInhibition\")\n",
    "with model:\n",
    "    inp_node = nengo.Node(\n",
    "        Piecewise({0: 0, 1: 1, 1.25: 0, 2: 1})\n",
    "    )  # quick spike into start node\n",
    "\n",
    "    delay_node = nengo.Node(delay.step, size_in=1, size_out=1)\n",
    "\n",
    "    n_neurons_map = 500\n",
    "    map_neurons = nengo.Ensemble(\n",
    "        n_neurons=n_neurons_map,\n",
    "        dimensions=1,\n",
    "        intercepts=Uniform(0, 0.9),\n",
    "        encoders=np.tile([[1]], (n_neurons_map, 1)),\n",
    "    )\n",
    "\n",
    "    inhibition_neuron = nengo.Ensemble(\n",
    "        n_neurons=n_neurons_map, dimensions=1, max_rates=Uniform(100, 100)\n",
    "    )\n",
    "\n",
    "    nengo.Connection(inp_node, map_neurons)\n",
    "    nengo.Connection(map_neurons, delay_node)\n",
    "    nengo.Connection(delay_node, inhibition_neuron)\n",
    "    nengo.Connection(inhibition_neuron, inhibition_neuron, synapse=0.5)\n",
    "    nengo.Connection(\n",
    "        inhibition_neuron, map_neurons, transform=[[-1]]\n",
    "    )  # inhibition feedback\n",
    "\n",
    "    map_probes = nengo.Probe(map_neurons, synapse=0.01)\n",
    "    delay_probe = nengo.Probe(delay_node, synapse=0.01)\n",
    "    inhib_probe = nengo.Probe(inhibition_neuron, synapse=0.01)\n",
    "    inp_probe = nengo.Probe(inp_node, synapse=0.01)\n",
    "\n",
    "sim_time = 4\n",
    "with nengo.Simulator(model) as sim:\n",
    "    # Run it for 2 seconds\n",
    "    sim.run(sim_time)\n",
    "\n",
    "plt.figure()\n",
    "plt.plot(sim.trange(), sim.data[inp_probe], label=\"Input\")\n",
    "plt.plot(sim.trange(), sim.data[map_probes], label=\"Neuron\")\n",
    "plt.plot(sim.trange(), sim.data[delay_probe], label=\"Delay\")\n",
    "plt.plot(sim.trange(), sim.data[inhib_probe], label=\"Inhib\")\n",
    "plt.legend(loc=1)\n",
    "plt.xlabel(\"time [s]\")\n",
    "plt.title(\"One Neuron - Attempt 7\")\n",
    "plt.show()"
   ]
  },
  {
   "cell_type": "markdown",
   "metadata": {},
   "source": [
    "Now we don't inhibit enough!!\n",
    "\n",
    "### Attempts 8 to ???\n",
    "\n",
    "We can find the perfect feedback weight for one neuron here, but it still throws issues when we turn back to our path planning maps. \n",
    "\n",
    "Some ideas:\n",
    "- Add a weight to the inhibition neuron to make it saturate faster. This kind of works, but it depends on how long your delay is before you get a spike. And you have to have the perfect balance of the OG feedback weight and the inhibition feedback weight, which is NOT generalizable.\n",
    "- Change your intercepts to wait to fire until the values are higher. Works better but not great.\n",
    "- Stick with fancy nodes that do the thing correctly.\n",
    "- **Any other ideas??**\n",
    "\n",
    "### Discussion\n",
    "\n",
    "For your final project, I will not have a key for each of your topics to reference and assist with debugging. You will need to be able to problem solve by looking at your neuron outputs and thinking through how things can be adjusted indepedent of me (first), then come to me to work things out.\n",
    "\n",
    "_My hope is that your Lab2 gives you the confidence to understand an algorithm well enough to map it to neurons AND to do hard things with Python (like indexing)._  \n",
    "\n",
    "_My hope is that this tutorial gives you a bit of a framework on how to problem solve complicated neuron problems when you're REALLY solo_:\n",
    "- Look at individual neuron outputs in your larger model\n",
    "- When something looks off, go to one neuron and ensure what you think should be happening is what is in fact happening\n",
    "- Repeat!"
   ]
  }
 ],
 "metadata": {
  "kernelspec": {
   "display_name": "py3.10-nengo3.2",
   "language": "python",
   "name": "python3"
  },
  "language_info": {
   "codemirror_mode": {
    "name": "ipython",
    "version": 3
   },
   "file_extension": ".py",
   "mimetype": "text/x-python",
   "name": "python",
   "nbconvert_exporter": "python",
   "pygments_lexer": "ipython3",
   "version": "3.10.13"
  }
 },
 "nbformat": 4,
 "nbformat_minor": 2
}
