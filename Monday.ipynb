{
 "cells": [
  {
   "cell_type": "markdown",
   "metadata": {},
   "source": [
    "## ECE495 Lab2: Krichmar Path Planning using Nengo"
   ]
  },
  {
   "cell_type": "markdown",
   "metadata": {},
   "source": [
    "This Lab uses Nengo to find the optimal path of a square or rectangular map using Krichmar's spike-wave propagation algorithm. The objectives of this lab are to:\n",
    "- Implement Krichmar's spike-wave propagation algorithm using Nengo neurons\n",
    "- Ensure the spike wave works for any rectangular or square map\n",
    "- Utilize an \"off-chip\" AER to compute the fastest route to get from any starting point (location) to any ending point (location)\n",
    "\n",
    "_Note: This is your assignment description and a proposed outline by which you can complete your assignment_\n",
    "- The assignment is worth 60 points\n",
    "- You may hardcode your connections for each of the three required maps _for a max score of 50/60_\n",
    "- _**Be sure to print your final path for each map or save it somewhere in your repository so that I can check your work!**_"
   ]
  },
  {
   "cell_type": "markdown",
   "metadata": {},
   "source": [
    "#### Set up\n",
    "\n",
    "**Ensure you are using your [495 Virtual Environment](https://github.com/kaitlin-fair/495venv_setup) before you begin!**  \n",
    "    \n",
    "Import Nengo and other supporting libraries into your program to get started:"
   ]
  },
  {
   "cell_type": "code",
   "execution_count": 4,
   "metadata": {},
   "outputs": [],
   "source": [
    "import matplotlib.pyplot as plt\n",
    "import numpy as np\n",
    "\n",
    "import nengo\n",
    "from nengo.processes import Piecewise\n",
    "from nengo.processes import WhiteSignal\n",
    "from nengo.solvers import LstsqL2"
   ]
  },
  {
   "cell_type": "markdown",
   "metadata": {
    "id": "SRNvPHASH60r"
   },
   "source": [
    "### Input Maps\n",
    "\n",
    "Check that your spike-wave propagation and AER work for these three maps:\n",
    " \n",
    "(a) The following $3 \\times 3$ array with start location 0 (top left) and end location 8 (bottom right). \n",
    "$$\\begin{bmatrix} 1 & 2 & 1 \\\\\n",
    "                  1 & 3 & 5 \\\\\n",
    "                  7 & 1 & 1\n",
    "                      \\end{bmatrix}$$\n",
    "\n",
    "(b) The following $3 \\times 4$ array with start location 0 and end location 11.\n",
    "$$\\begin{bmatrix} 1 & 2 & 1 & 6 \\\\\n",
    "                  1 & 3 & 5 & 3 \\\\\n",
    "                  7 & 1 & 4 & 1\n",
    "                      \\end{bmatrix}$$\n",
    "\n",
    "(c) The following $5 \\times 5$ array with start location 10 and end location 4.\n",
    "$$\\begin{bmatrix} 1 & 3 & 7 & 2 & 1\\\\\n",
    "                  3 & 1 & 5 & 3 & 1\\\\\n",
    "                  3 & 2 & 6 & 1 & 2\\\\\n",
    "                  3 & 1 & 5 & 6 & 1\\\\\n",
    "                  2 & 2 & 1 & 1 & 2\n",
    "                      \\end{bmatrix}$$\n"
   ]
  },
  {
   "cell_type": "code",
   "execution_count": 5,
   "metadata": {},
   "outputs": [],
   "source": [
    "three = np.array(\n",
    "    [\n",
    "        [1, 2, 1],\n",
    "        [\n",
    "            1,\n",
    "            3,\n",
    "            5,\n",
    "        ],\n",
    "        [7, 1, 1],\n",
    "    ]\n",
    ")\n",
    "start3 = 0\n",
    "end3 = 8\n",
    "four = np.array([[1, 2, 1, 6], [1, 3, 5, 3], [7, 1, 4, 1]])\n",
    "start4 = 0\n",
    "end4 = 11\n",
    "five = np.array(\n",
    "    [\n",
    "        [1, 3, 7, 2, 1],\n",
    "        [3, 1, 5, 3, 1],\n",
    "        [3, 2, 6, 1, 2],\n",
    "        [3, 1, 5, 6, 1],\n",
    "        [2, 2, 1, 1, 2],\n",
    "    ]\n",
    ")\n",
    "start5 = 10\n",
    "end5 = 4"
   ]
  },
  {
   "cell_type": "markdown",
   "metadata": {
    "id": "GVEl2ZdARMhN"
   },
   "source": [
    "### Set up and run your Nengo model to implement the spike-wave propagation\n",
    "_Be sure to generalize or take the 10 points deduction!_\n",
    "\n",
    "Hints: \n",
    "- Use a piecewise function to kick off the spike wave, then turn off your input and let the wave do the rest. Be sure this input connects to your _start location._\n",
    "- Use a Nengo Ensemble for each map location (you can use an Ensemble array, a multidimensional ensemble, or a list of ensembles). Every map location has anywhere from 3 (corner locations) to 8 (inside locations) neighbors to which it can send a spike. Be careful with your connections! I personally said each of them had 8 possible locations and then deleted any locations that were \"off-map\", but do what makes the most sense to you. \n",
    "- Create a delay node to emulate an axonal delay from Krichmar's algorithm. Each map location should have a delay equal to the weight (difficulty of traversal) of the location.\n",
    "- Implementing inhibition is _difficult_! Recall from Krichmar's algorithm that once a map location fires, it should not fire again. If you can't get the inhibition to work, instead try to add another function to your delay node that turns off a map location once it's sent the spike wave forward"
   ]
  },
  {
   "cell_type": "code",
   "execution_count": 10,
   "metadata": {},
   "outputs": [
    {
     "name": "stdout",
     "output_type": "stream",
     "text": [
      "3 4\n",
      "0\n",
      "0 0\n",
      "loc0 is connected to mr at 1\n",
      "loc0 is connected to bm at 4\n",
      "loc0 is connected to br at 5\n",
      "1\n",
      "0 1\n",
      "loc1 is connected to ml at 0\n",
      "loc1 is connected to mr at 2\n",
      "loc1 is connected to bl at 4\n",
      "loc1 is connected to bm at 5\n",
      "loc1 is connected to br at 6\n",
      "2\n",
      "0 2\n",
      "loc2 is connected to ml at 1\n",
      "loc2 is connected to mr at 3\n",
      "loc2 is connected to bl at 5\n",
      "loc2 is connected to bm at 6\n",
      "loc2 is connected to br at 7\n",
      "3\n",
      "0 3\n",
      "loc3 is connected to ml at 2\n",
      "loc3 is connected to bl at 6\n",
      "loc3 is connected to bm at 7\n",
      "4\n",
      "1 0\n",
      "loc4 is connected to tm at 0\n",
      "loc4 is connected to tr at 1\n",
      "loc4 is connected to mr at 5\n",
      "loc4 is connected to bm at 8\n",
      "loc4 is connected to br at 9\n",
      "5\n",
      "1 1\n",
      "loc5 is connected to tl at 0\n",
      "loc5 is connected to tm at 1\n",
      "loc5 is connected to tr at 2\n",
      "loc5 is connected to ml at 4\n",
      "loc5 is connected to mr at 6\n",
      "loc5 is connected to bl at 8\n",
      "loc5 is connected to bm at 9\n",
      "loc5 is connected to br at 10\n",
      "6\n",
      "1 2\n",
      "loc6 is connected to tl at 1\n",
      "loc6 is connected to tm at 2\n",
      "loc6 is connected to tr at 3\n",
      "loc6 is connected to ml at 5\n",
      "loc6 is connected to mr at 7\n",
      "loc6 is connected to bl at 9\n",
      "loc6 is connected to bm at 10\n",
      "loc6 is connected to br at 11\n",
      "7\n",
      "1 3\n",
      "loc7 is connected to tl at 2\n",
      "loc7 is connected to tm at 3\n",
      "loc7 is connected to ml at 6\n",
      "loc7 is connected to bl at 10\n",
      "loc7 is connected to bm at 11\n",
      "8\n",
      "2 0\n",
      "loc8 is connected to tm at 4\n",
      "loc8 is connected to tr at 5\n",
      "loc8 is connected to mr at 9\n",
      "9\n",
      "2 1\n",
      "loc9 is connected to tl at 4\n",
      "loc9 is connected to tm at 5\n",
      "loc9 is connected to tr at 6\n",
      "loc9 is connected to ml at 8\n",
      "loc9 is connected to mr at 10\n",
      "10\n",
      "2 2\n",
      "loc10 is connected to tl at 5\n",
      "loc10 is connected to tm at 6\n",
      "loc10 is connected to tr at 7\n",
      "loc10 is connected to ml at 9\n",
      "loc10 is connected to mr at 11\n",
      "11\n",
      "2 3\n",
      "loc11 is connected to tl at 6\n",
      "loc11 is connected to tm at 7\n",
      "loc11 is connected to ml at 10\n"
     ]
    },
    {
     "data": {
      "application/vdom.v1+json": {
       "attributes": {},
       "tagName": "div"
      },
      "text/html": [
       "\n",
       "                <script>\n",
       "                    if (Jupyter.version.split(\".\")[0] < 5) {\n",
       "                        var pb = document.getElementById(\"2137136c-9ff2-403e-8146-330648392952\");\n",
       "                        var text = document.createTextNode(\n",
       "                            \"HMTL progress bar requires Jupyter Notebook >= \" +\n",
       "                            \"5.0 or Jupyter Lab. Alternatively, you can use \" +\n",
       "                            \"TerminalProgressBar().\");\n",
       "                        pb.parentNode.insertBefore(text, pb);\n",
       "                    }\n",
       "                </script>\n",
       "                <div id=\"2137136c-9ff2-403e-8146-330648392952\" style=\"\n",
       "                    width: 100%;\n",
       "                    border: 1px solid #cfcfcf;\n",
       "                    border-radius: 4px;\n",
       "                    text-align: center;\n",
       "                    position: relative;\">\n",
       "                  <div class=\"pb-text\" style=\"\n",
       "                      position: absolute;\n",
       "                      width: 100%;\">\n",
       "                    0%\n",
       "                  </div>\n",
       "                  <div class=\"pb-fill\" style=\"\n",
       "                      background-color: #bdd2e6;\n",
       "                      width: 0%;\">\n",
       "                    <style type=\"text/css\" scoped=\"scoped\">\n",
       "                        @keyframes pb-fill-anim {\n",
       "                            0% { background-position: 0 0; }\n",
       "                            100% { background-position: 100px 0; }\n",
       "                        }\n",
       "                    </style>\n",
       "                    &nbsp;\n",
       "                  </div>\n",
       "                </div>"
      ],
      "text/plain": [
       "HtmlProgressBar cannot be displayed. Please use the TerminalProgressBar. It can be enabled with `nengo.rc['progress']['progress_bar'] = 'nengo.utils.progress.TerminalProgressBar'`."
      ]
     },
     "metadata": {},
     "output_type": "display_data"
    },
    {
     "data": {
      "application/vdom.v1+json": {
       "attributes": {
        "id": "e326798f-0d44-43ad-bded-970913d9dbe2",
        "style": {
         "border": "1px solid #cfcfcf",
         "borderRadius": "4px",
         "boxSizing": "border-box",
         "position": "relative",
         "textAlign": "center",
         "width": "100%"
        }
       },
       "children": [
        {
         "attributes": {
          "class": "pb-text",
          "style": {
           "position": "absolute",
           "width": "100%"
          }
         },
         "children": [
          "Build finished in 0:00:50."
         ],
         "tagName": "div"
        },
        {
         "attributes": {
          "class": "pb-fill",
          "style": {
           "animation": "none",
           "backgroundColor": "#bdd2e6",
           "backgroundImage": "none",
           "backgroundSize": "100px 100%",
           "width": "100%"
          }
         },
         "children": [
          {
           "attributes": {
            "scoped": "scoped",
            "type": "text/css"
           },
           "children": [
            "\n                        @keyframes pb-fill-anim {\n                            0% { background-position: 0 0; }\n                            100% { background-position: 100px 0; }\n                        }}"
           ],
           "tagName": "style"
          },
          " "
         ],
         "tagName": "div"
        }
       ],
       "tagName": "div"
      },
      "text/html": [
       "<script>\n",
       "              (function () {\n",
       "                  var root = document.getElementById('2137136c-9ff2-403e-8146-330648392952');\n",
       "                  var text = root.getElementsByClassName('pb-text')[0];\n",
       "                  var fill = root.getElementsByClassName('pb-fill')[0];\n",
       "\n",
       "                  text.innerHTML = 'Build finished in 0:00:50.';\n",
       "                  \n",
       "            fill.style.width = '100%';\n",
       "            fill.style.animation = 'pb-fill-anim 2s linear infinite';\n",
       "            fill.style.backgroundSize = '100px 100%';\n",
       "            fill.style.backgroundImage = 'repeating-linear-gradient(' +\n",
       "                '90deg, #bdd2e6, #edf2f8 40%, #bdd2e6 80%, #bdd2e6)';\n",
       "        \n",
       "                  \n",
       "                fill.style.animation = 'none';\n",
       "                fill.style.backgroundImage = 'none';\n",
       "            \n",
       "              })();\n",
       "        </script>"
      ]
     },
     "metadata": {},
     "output_type": "display_data"
    },
    {
     "data": {
      "application/vdom.v1+json": {
       "attributes": {},
       "tagName": "div"
      },
      "text/html": [
       "\n",
       "                <script>\n",
       "                    if (Jupyter.version.split(\".\")[0] < 5) {\n",
       "                        var pb = document.getElementById(\"3fe70fb6-f658-4afb-b0b9-77da0dd9677c\");\n",
       "                        var text = document.createTextNode(\n",
       "                            \"HMTL progress bar requires Jupyter Notebook >= \" +\n",
       "                            \"5.0 or Jupyter Lab. Alternatively, you can use \" +\n",
       "                            \"TerminalProgressBar().\");\n",
       "                        pb.parentNode.insertBefore(text, pb);\n",
       "                    }\n",
       "                </script>\n",
       "                <div id=\"3fe70fb6-f658-4afb-b0b9-77da0dd9677c\" style=\"\n",
       "                    width: 100%;\n",
       "                    border: 1px solid #cfcfcf;\n",
       "                    border-radius: 4px;\n",
       "                    text-align: center;\n",
       "                    position: relative;\">\n",
       "                  <div class=\"pb-text\" style=\"\n",
       "                      position: absolute;\n",
       "                      width: 100%;\">\n",
       "                    0%\n",
       "                  </div>\n",
       "                  <div class=\"pb-fill\" style=\"\n",
       "                      background-color: #bdd2e6;\n",
       "                      width: 0%;\">\n",
       "                    <style type=\"text/css\" scoped=\"scoped\">\n",
       "                        @keyframes pb-fill-anim {\n",
       "                            0% { background-position: 0 0; }\n",
       "                            100% { background-position: 100px 0; }\n",
       "                        }\n",
       "                    </style>\n",
       "                    &nbsp;\n",
       "                  </div>\n",
       "                </div>"
      ],
      "text/plain": [
       "HtmlProgressBar cannot be displayed. Please use the TerminalProgressBar. It can be enabled with `nengo.rc['progress']['progress_bar'] = 'nengo.utils.progress.TerminalProgressBar'`."
      ]
     },
     "metadata": {},
     "output_type": "display_data"
    },
    {
     "data": {
      "application/vdom.v1+json": {
       "attributes": {
        "id": "15552a4d-65e4-4ba5-8fed-162281727734",
        "style": {
         "border": "1px solid #cfcfcf",
         "borderRadius": "4px",
         "boxSizing": "border-box",
         "position": "relative",
         "textAlign": "center",
         "width": "100%"
        }
       },
       "children": [
        {
         "attributes": {
          "class": "pb-text",
          "style": {
           "position": "absolute",
           "width": "100%"
          }
         },
         "children": [
          "Simulation finished in 0:00:26."
         ],
         "tagName": "div"
        },
        {
         "attributes": {
          "class": "pb-fill",
          "style": {
           "animation": "none",
           "backgroundColor": "#bdd2e6",
           "backgroundImage": "none",
           "transition": "width 0.1s linear",
           "width": "100%"
          }
         },
         "children": [
          {
           "attributes": {
            "scoped": "scoped",
            "type": "text/css"
           },
           "children": [
            "\n                        @keyframes pb-fill-anim {\n                            0% { background-position: 0 0; }\n                            100% { background-position: 100px 0; }\n                        }}"
           ],
           "tagName": "style"
          },
          " "
         ],
         "tagName": "div"
        }
       ],
       "tagName": "div"
      },
      "text/html": [
       "<script>\n",
       "              (function () {\n",
       "                  var root = document.getElementById('3fe70fb6-f658-4afb-b0b9-77da0dd9677c');\n",
       "                  var text = root.getElementsByClassName('pb-text')[0];\n",
       "                  var fill = root.getElementsByClassName('pb-fill')[0];\n",
       "\n",
       "                  text.innerHTML = 'Simulation finished in 0:00:26.';\n",
       "                  \n",
       "            if (100.0 > 0.) {\n",
       "                fill.style.transition = 'width 0.1s linear';\n",
       "            } else {\n",
       "                fill.style.transition = 'none';\n",
       "            }\n",
       "\n",
       "            fill.style.width = '100.0%';\n",
       "            fill.style.animation = 'none';\n",
       "            fill.style.backgroundImage = 'none'\n",
       "        \n",
       "                  \n",
       "                fill.style.animation = 'none';\n",
       "                fill.style.backgroundImage = 'none';\n",
       "            \n",
       "              })();\n",
       "        </script>"
      ]
     },
     "metadata": {},
     "output_type": "display_data"
    }
   ],
   "source": [
    "class Delay:\n",
    "    def __init__(self, dimensions, timesteps=50):\n",
    "        self.history = np.zeros((timesteps, dimensions))\n",
    "        self.startspike = False\n",
    "        self.endspike = False\n",
    "\n",
    "    def step(self, t, x):\n",
    "        self.history = np.roll(self.history, -1)\n",
    "        self.history[-1] = x\n",
    "        # determine if its spiked\n",
    "\n",
    "        return self.history[0]\n",
    "\n",
    "\n",
    "# Using this to prove generalizing\n",
    "map = three\n",
    "startloc = start3\n",
    "endloc = end3\n",
    "rows, columns = map.shape\n",
    "print(rows, columns)\n",
    "model = nengo.Network(label=\"Lab2\", seed=123)\n",
    "with model:\n",
    "    # input spike\n",
    "    spike = nengo.Node(Piecewise({0: 0, 0.25: 1, 0.75: 0}))\n",
    "\n",
    "    # multi-dimensional neuron for map\n",
    "    ensemble_map = nengo.Ensemble(n_neurons=map.size * 50, dimensions=map.size)\n",
    "\n",
    "    # making delay node?\n",
    "    dt = 0.001  # default nengo timestep\n",
    "    for i in range(map.size):\n",
    "        time_delay = 0.25  # seconds by which you wish to delay the signal\n",
    "        delay = Delay(1, timesteps=int(time_delay / dt))\n",
    "\n",
    "    nengo.Connection(spike, ensemble_map[startloc])\n",
    "\n",
    "    # Connections (terrible)\n",
    "\n",
    "    for i in range(rows):\n",
    "        for j in range(columns):\n",
    "            # n for current neuron 1-d location\n",
    "            n = i * rows + j\n",
    "            print(n)\n",
    "            print(i, j)\n",
    "            # indices for 2-d location\n",
    "            downrow = i + 1\n",
    "            uprow = i - 1\n",
    "            leftcol = j - 1\n",
    "            rightcol = j + 1\n",
    "            # 1-d locations of 8 neighbors\n",
    "            tl = uprow * rows + leftcol\n",
    "            tm = uprow * rows + j\n",
    "            tr = uprow * rows + rightcol\n",
    "            ml = i * rows + leftcol\n",
    "            mr = i * rows + rightcol\n",
    "            bl = downrow * rows + leftcol\n",
    "            bm = downrow * rows + j\n",
    "            br = downrow * rows + rightcol\n",
    "\n",
    "            # 8 connections (wrt to center of 3x3: tl tm tr, ml, mr, bl, bm, br)\n",
    "            # checking for valid 2-d indices but connecting 1-d locations\n",
    "            if uprow >= 0 and leftcol >= 0:\n",
    "                nengo.Connection(ensemble_map[n], delay_list[tl])\n",
    "                print(\"loc{} is connected to tl at {}\".format(n, tl))\n",
    "            if uprow >= 0:\n",
    "                nengo.Connection(ensemble_map[n], delay_list[tm])\n",
    "                print(\"loc{} is connected to tm at {}\".format(n, tm))\n",
    "            if uprow >= 0 and rightcol < columns:\n",
    "                nengo.Connection(ensemble_map[n], delay_list[tr])\n",
    "                print(\"loc{} is connected to tr at {}\".format(n, tr))\n",
    "            if leftcol >= 0:\n",
    "                nengo.Connection(ensemble_map[n], delay_list[ml])\n",
    "                print(\"loc{} is connected to ml at {}\".format(n, ml))\n",
    "            if rightcol < columns:\n",
    "                nengo.Connection(ensemble_map[n], delay_list[mr])\n",
    "                print(\"loc{} is connected to mr at {}\".format(n, mr))\n",
    "            if downrow < rows and leftcol >= 0:\n",
    "                nengo.Connection(ensemble_map[n], delay_list[bl])\n",
    "                print(\"loc{} is connected to bl at {}\".format(n, bl))\n",
    "            if downrow < rows:\n",
    "                nengo.Connection(ensemble_map[n], delay_list[bm])\n",
    "                print(\"loc{} is connected to bm at {}\".format(n, bm))\n",
    "            if downrow < rows and rightcol < columns:\n",
    "                nengo.Connection(ensemble_map[n], delay_list[br])\n",
    "                print(\"loc{} is connected to br at {}\".format(n, br))"
   ]
  },
  {
   "cell_type": "markdown",
   "metadata": {},
   "source": [
    "### Create AER off-neuron\n",
    "_Pay attention to how Krichmar says he uses the AER to determine the path_  \n",
    "\n",
    "Hints:\n",
    "- The AER contains a location and a time of first spike.\n",
    "- Start at the end location and work backward!\n",
    "- I found that by looking at the first spike times of all possible neighboring map locations and choosing the smallest time allowed me to work from end node to start node for my optimal path."
   ]
  },
  {
   "cell_type": "code",
   "execution_count": 11,
   "metadata": {},
   "outputs": [
    {
     "name": "stdout",
     "output_type": "stream",
     "text": [
      "0\n",
      "This is time step where the pulse first begins for loc 0: 1260\n",
      "This time step occurs at approximately  1.26  seconds\n",
      "1\n",
      "This is time step where the pulse first begins for loc 1: 3269\n",
      "This time step occurs at approximately  3.269  seconds\n",
      "2\n",
      "This is time step where the pulse first begins for loc 2: 4277\n",
      "This time step occurs at approximately  4.277  seconds\n",
      "3\n",
      "This is time step where the pulse first begins for loc 3: 10285\n",
      "This time step occurs at approximately  10.285  seconds\n",
      "4\n",
      "This is time step where the pulse first begins for loc 4: 2268\n",
      "This time step occurs at approximately  2.2680000000000002  seconds\n",
      "5\n",
      "This is time step where the pulse first begins for loc 5: 4268\n",
      "This time step occurs at approximately  4.268  seconds\n",
      "6\n",
      "This is time step where the pulse first begins for loc 6: 8274\n",
      "This time step occurs at approximately  8.274000000000001  seconds\n",
      "7\n",
      "This is time step where the pulse first begins for loc 7: 7285\n",
      "This time step occurs at approximately  7.285  seconds\n",
      "8\n",
      "This is time step where the pulse first begins for loc 8: 9275\n",
      "This time step occurs at approximately  9.275  seconds\n",
      "9\n",
      "This is time step where the pulse first begins for loc 9: 3276\n",
      "This time step occurs at approximately  3.2760000000000002  seconds\n",
      "10\n",
      "This is time step where the pulse first begins for loc 10: 7283\n",
      "This time step occurs at approximately  7.283  seconds\n",
      "11\n",
      "This is time step where the pulse first begins for loc 11: 8287\n",
      "This time step occurs at approximately  8.287  seconds\n",
      "len [1260, 3269, 4277, 10285, 2268, 4268, 8274, 7285, 9275, 3276, 7283, 8287]\n",
      "spot: 11\n",
      "spot: 10\n",
      "spot: 9\n",
      "spot: 4\n"
     ]
    },
    {
     "data": {
      "image/png": "[encoded data removed]",
      "text/plain": [
       "<Figure size 640x480 with 1 Axes>"
      ]
     },
     "metadata": {},
     "output_type": "display_data"
    }
   ],
   "source": [
    "# not in nengo (work in progress)\n",
    "\n",
    "for i in neuron_probe:\n",
    "    aer = sim.data[neuron_probe][:, i] > 0.25\n",
    "    spikes_locs = np.where(aer == True)\n",
    "    first_spike = np.min(spikes_locs)\n",
    "\n",
    "    print(\n",
    "        \"This is time step where the pulse first begins for loc {}: {}\".format(\n",
    "            i, first_spike\n",
    "        )\n",
    "    )\n",
    "\n",
    "    dt = 0.001  # default nengo timestep\n",
    "    print(\"This time step occurs at approximately \", first_spike * dt, \" seconds\")"
   ]
  },
  {
   "cell_type": "markdown",
   "metadata": {
    "id": "IU76Mt_cfa7q"
   },
   "source": [
    "### Print your optimal path\n",
    "_Be sure to show your results_  \n",
    "\n",
    "Some options:\n",
    "- You can print your map locations as x- and y- coordinates (examples: start_loc = [0,0] or [2,0]) or flattened locations (examples: start_loc = 0 or 10)\n",
    "- You can create a picture of a map (like in Krichmar's paper) where you draw out your final path"
   ]
  },
  {
   "cell_type": "code",
   "execution_count": 12,
   "metadata": {},
   "outputs": [
    {
     "name": "stdout",
     "output_type": "stream",
     "text": [
      "[0, 4, 9, 10, 11]\n"
     ]
    }
   ],
   "source": []
  }
 ],
 "metadata": {
  "colab": {
   "provenance": []
  },
  "kernelspec": {
   "display_name": "Python 3",
   "name": "python3"
  },
  "language_info": {
   "codemirror_mode": {
    "name": "ipython",
    "version": 3
   },
   "file_extension": ".py",
   "mimetype": "text/x-python",
   "name": "python",
   "nbconvert_exporter": "python",
   "pygments_lexer": "ipython3",
   "version": "3.10.13"
  }
 },
 "nbformat": 4,
 "nbformat_minor": 0
}
