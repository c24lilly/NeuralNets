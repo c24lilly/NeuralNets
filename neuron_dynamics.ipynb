{
 "cells": [
  {
   "cell_type": "markdown",
   "metadata": {},
   "source": [
    "## ECE495 Intro to programming neurons with Nengo: Dynamics\n",
    "\n",
    "In this demonstration we will:\n",
    "\n",
    "1. Understand and implement recurrence in a Nengo network\n",
    "2. Create an integrator with neurons\n",
    "3. Create an oscillator with neurons"
   ]
  },
  {
   "cell_type": "markdown",
   "metadata": {},
   "source": [
    "#### Set up\n",
    "\n",
    "**Ensure you are using your [495 Virtual Environment](https://github.com/kaitlin-fair/495venv_setup) before you begin!**  \n",
    "    \n",
    "Import Nengo and other supporting libraries into your program to get started:"
   ]
  },
  {
   "cell_type": "code",
   "execution_count": 1,
   "metadata": {},
   "outputs": [],
   "source": [
    "import matplotlib.pyplot as plt\n",
    "import numpy as np\n",
    "\n",
    "import nengo\n",
    "from nengo.processes import Piecewise\n",
    "from nengo.processes import WhiteSignal"
   ]
  },
  {
   "cell_type": "markdown",
   "metadata": {},
   "source": [
    "### Recurrence in Nengo\n",
    "\n",
    "Recurrence in neural networks can be used to implement stable dynamics. Such dynamics are important for memory, noise cleanup, statistical inference, and many other dynamic transformations. Recurrent neurons can also be used if you will be performing the same computation over and over again within an algorithm (i.e. just build the neuron once and send in different inputs). Another use of recurrent neurons is online learning (edge computing), depending on the algorithm.\n",
    "\n",
    "We have discussed how to compute the neuron representation of a signal in depth (i.e. decode the spikes). As it turns out, this is something we did in ECE 346. Any guesses?\n",
    "\n",
    "Imagine this is a block diagram:  \n",
    "$u(t)$ --> [$h(t)$] --> $x(t)$\n",
    "\n",
    "Where $u(t)$ is our input, $h(t)$ is our transfer function, and $x(t)$ is the transformed input (or state of the system). Here, math tells us that $x(t)=u(t)*h(t)$ where $u(t)$ is our output spikes, $h(t)$ is our neuron action potential, and $x(t)$ is our decoded signal. _This is how we (and Nengo) have decoded our spikes!_\n",
    "\n",
    "In the case where we are considering $u(t)$ to be spikes, convolution is not terribly difficult - we've been doing it for two weeks! However, if we begin to think of our outputs as an input signal (at the algorithm level), convolution gets complicated. Therefore, we want to use.... _Laplace Transforms_.\n",
    "\n",
    "$$\\mathscr{L}\\{x(t)\\} = X(s)= U(s)H(s)$$\n",
    "This is now just multiplication!\n",
    "\n",
    "Fun fact: if the membrane action potential is approximated as $h(t)=e^{-t/\\tau}$ - which is how Nengo approximates it - the Laplace is:\n",
    "\n",
    "$$\\mathscr{L}\\{h(t)\\}=\\frac{1}{1+s\\tau}$$\n",
    "\n",
    "If we plut $H(s)$ into $X(s)=U(s)H(s)$ and rearrange a bit, we get the following:\n",
    "\n",
    "$$sX(s) = \\frac{1}{\\tau}(U(s)-X(s))$$\n",
    "\n",
    "The Inverse Laplace of $sX(s)$ is $\\dot{x}$, which we can use to describe the dynamics of our system (i.e. how much we've changed over time)! \n",
    "\n",
    "$$\\dot{x(t)}=-\\frac{1}{\\tau}(x(t))-u(t))$$\n",
    "\n",
    "This is a lot of math, but this is simply what we did in our Jupyter Notebook on Neuron Representation. $\\tau$ is the rate at which we change and $x(t)-u(t)$ is the total change in our system over time (output-input). You can go back to our very first example and see how $\\tau$ impacts the rate at which we change over time as we move toward the value we intend to represent.\n"
   ]
  },
  {
   "cell_type": "markdown",
   "metadata": {},
   "source": [
    "#### Okay, but WHY?!\n",
    "\n",
    "Well, this lays the foundation for implementing recurrence using neurons. AND it again shows you how useful ECE346 actually was, even if it was brutal along the way. \n",
    "\n",
    "Now, we are going to feedback our output state x(t) to our input - you hopefully can recall implementing feedback in block diagrams from ECE346. We will use some Laplace math to determine the functions that will be implemented in our feedback connections in Nengo.\n",
    "\n",
    "#### Why feedback?\n",
    "\n",
    "I mentioned that recurrent neurons can be used to implement stable dynamics. Recall our synapse values - when they're larger, the neurons more accurately represent our signal but it takes a while to get there. Smaller is noiser but faster. However, biological systems only offer synpatic time constants of about 2-200ms. If we decide to stay true to biological systems when we model our algorithms (totally your call), recurrence can enable larger $\\tau$ for the network itself. This means that if our neuron synapses are .005s in our neuron ensemble, we can feed the output of our neuron back to itself with a particular set of dynamics such that the network itself responds at a synaptic time constant of .5 instead! Let's see how this works. In order to do so, we must math...\n",
    "\n",
    "Now, our block diagram has a feedback from $x(t)$ back to the input line, with a function of $f(x(t))$ attached to the feedback line. If we ignore any external input $u(t)$ and assess the dynamics alone, we get the same thing as last time, except now we have $f(x(t))$ instead of $u(t)$ (because $f(x(t))$ is now the input if there's not external input $u(t)$).\n",
    "\n",
    "$$\\dot{x}(t)=-\\frac{1}{\\tau}(x(t))-f(x(t)))$$\n",
    "\n",
    "But we know we will have an external input! We will call our external input $g(u(t))$. So now, we simply add $g(u(t))+f(x(t))$ and call that our input, which updates our $\\dot{x}(t)$ to:\n",
    "\n",
    "$$\\dot{x}(t)=-\\frac{1}{\\tau}(x(t))-g(u(t))-f(x(t)))=\\frac{1}{\\tau}(f(x(t)+g(u(t)))-x(t))$$\n",
    "\n",
    "Here's the deal about controls - it's heavily studied and instead of tring to see what we get, we can instead say what we want to get and go from there. For simplicity of notation, we will drop all $t$ s. \n",
    "\n",
    "We choose\n",
    "\n",
    "$$\\dot{x}=f(x)+g(u)$$\n",
    "\n",
    "meaning our state is simply the feedback of $f(x)$ added to our input $g(u)$. In this case, we want our output to be the representation of our input, just getting there more gradually than the neurons themselves would get us there (i.e. slower but accurate). Therefore, we create a new function that will get us to $\\dot{x}(t)=f(x)+g(u)= \\frac{1}{\\tau}(f(x(t)+g(u(t)))-x(t))$, and that is:\n",
    "\n",
    "$$\\dot{f}+\\dot{g}=\\tau (f(x) + g(u) +x)$$\n",
    "\n",
    "And we replace $f(x)+g(u)$ with $\\dot{f}(x)+\\dot{g}(u)$:\n",
    "\n",
    "$$\\dot{x}(t)=\\frac{1}{\\tau}([\\tau (f(x) + g(u) +x)]-x))=f(x)+g(u)$$\n",
    "\n",
    "Recall, we want $\\dot{x}=f(x)+g(u)$ and we got there! Now we just need a $\\dot{f}$ and a $\\dot{g}$ to make that happen. These two functions achieve the dynamics we are looking for:\n",
    "\n",
    "$$\\dot{f}(x(t))=\\tau f(x(t)) + x(t)$$\n",
    "$$\\dot{g}(u)=\\tau g(u)$$ \n",
    "\n",
    "These two functions are what we will use at our connections in our Nengo model!"
   ]
  },
  {
   "cell_type": "markdown",
   "metadata": {},
   "source": [
    "#### Let's actually do that now!\n",
    "\n",
    "Suppose we want the following dynamics in our system (i.e. our entire network):\n",
    "\n",
    "$$\\dot{x}=-\\frac{1}{.05}(x(t)-u(t))$$\n",
    "\n",
    "This means that we want our network time constant to be $.05$ regardless of our neuron synaptic time constants. Yes... we could just adjust each neurons time constants, but for one reason or another, maybe that's not accessible to us.\n",
    "\n",
    "Instead, we need to implement the dynamics we just derived to make that happen, where $f(x)=-\\frac{x}{.05}$ and $g(u)=\\frac{u}{.05}$:\n",
    "\n",
    "$$\\dot{f}=-\\frac{\\tau}{.05}x + x$$\n",
    "$$\\dot{g}=\\frac{\\tau}{.05}u$$\n",
    "\n",
    "These will be the functions used in our Nengo network to achieve the desired dynamics, with $\\dot{f}$ being the feed forward function and $\\dot{g}$ being the feedback function.\n",
    "\n"
   ]
  },
  {
   "cell_type": "code",
   "execution_count": null,
   "metadata": {},
   "outputs": [],
   "source": [
    "model = nengo.Network(label=\"Recurrence\")\n",
    "\n",
    "synaptic_tau = 0.005  # actual neuron tau, much smaller, responds quickly but noisily\n",
    "desired_tau = 0.05  # much larger, therefore more stable for network as a whole\n",
    "\n",
    "with model:\n",
    "    a = nengo.Ensemble(100, dimensions=1)\n",
    "\n",
    "    stim = nengo.Node(Piecewise({0: 0, 1: 1}))\n",
    "    nengo.Connection(stim, a)\n",
    "\n",
    "    b = nengo.Ensemble(100, dimensions=1)\n",
    "\n",
    "    def forward(u):\n",
    "        return (synaptic_tau / desired_tau) * u\n",
    "\n",
    "    nengo.Connection(a, b, function=forward, synapse=synaptic_tau)\n",
    "\n",
    "    def recurrent(x):\n",
    "        return (1 - synaptic_tau / desired_tau) * x\n",
    "\n",
    "    nengo.Connection(b, b, function=recurrent, synapse=synaptic_tau)"
   ]
  },
  {
   "cell_type": "markdown",
   "metadata": {},
   "source": [
    "Probe it, run it, plot it"
   ]
  },
  {
   "cell_type": "code",
   "execution_count": null,
   "metadata": {},
   "outputs": [],
   "source": [
    "with model:\n",
    "    a_probe = nengo.Probe(a, synapse=synaptic_tau)\n",
    "    b_probe = nengo.Probe(b, synapse=synaptic_tau)\n",
    "\n",
    "# Create our simulator\n",
    "with nengo.Simulator(model) as sim:\n",
    "    # Run it for 6 seconds\n",
    "    sim.run(2)\n",
    "\n",
    "# Plot the decoded output of the ensemble\n",
    "plt.figure()\n",
    "plt.subplot(2, 1, 1)\n",
    "plt.plot(sim.trange(), sim.data[a_probe], lw=2)\n",
    "plt.title(\"Synpatic tau\")\n",
    "plt.subplot(2, 1, 2)\n",
    "plt.plot(sim.trange(), sim.data[b_probe], lw=2)\n",
    "plt.title(\"Network (desired) tau\")\n",
    "plt.tight_layout()"
   ]
  },
  {
   "cell_type": "markdown",
   "metadata": {},
   "source": [
    "#### Discussion\n",
    "\n",
    "In the plots, you can see that the neurons themselves have a shorter time constant than that of the network. We can choose any synaptic time constant for your neurons and you'll get the same results for the network using this dynamical system. **Try it!**\n",
    "\n",
    "That was a whole lot of math to do something pretty simple in Nengo. BUT I wanted you to understand how the functions were determined. Ultimately, whatever dynamics we want our system to have can be achieved using a feedback of some sort with the right associated functions. \n",
    "\n",
    "Let's keep going with two more examples."
   ]
  },
  {
   "cell_type": "markdown",
   "metadata": {},
   "source": [
    "### Integrator\n",
    "\n",
    "This is a simple example of a recurrent network to create an integrator, which essentially builds memory with neurons. Integrators are biologically plausible. In fact, we have neurons that perform this function to convert velocity signals (horizontal and vertical movements) into eye position commands (where you want your eye to go based on velocity). The interesting thing about integrators is that the neuron output remains the same even if the input is 0 and only moves again if the input becomes non-zero (i.e. once your eye goes to the top-left, it doesn't drift back to center until you decide it should). Now, think through this in terms of feedback to decide if this is intuitive to you. We will then be able to see this in our output plots.\n",
    "\n",
    "In terms of dynamics, we start with this linear dynamical system:\n",
    "\n",
    "$$\\dot{x}=f(x)+g(u)=Ax+Bu $$\n",
    "\n",
    "where $x$ is again our output state, $u$ is our input, and $A$ and $B$ determine the direction/strenght of $x$ and $u$ contributions. We only want our outputs to change as a result of our input and we want to remember our prior input when the current input is 0. Therefore, A=0 and B=I. This tells us that at every point in time, the change to our state is the input as expected per our above definition of an integrator. \n",
    "\n",
    "We must define functions for our feed forward and feedback aspects of our recurring network:\n",
    "\n",
    "$$\\dot{f}(x)= \\tau f(x) + x = \\tau Ax + x = x$$\n",
    "$$\\dot{g}(u)=\\tau g(u)  =\\tau Bu = \\tau Iu =\\tau u$$ \n",
    "\n",
    "For this example, our input is a piecewise function so you can see that the output is integrating (i.e. summing over time) the input. Note that since the integrator constantly sums its input, it will saturate quickly if you leave the input non-zero. This makes it clear that neurons have a finite range of representation. Such saturation effects however can be exploited to perform useful computations (e.g. soft normalization).\n",
    "\n",
    "You'll notice we call an argument `transform` instead of `function` in our connections. Because we simply multiply $x$ and $u$ by 1 and $\\tau$ respectively, we are essentially weighting our outputs. Recall, our weights on our outputs are decoders! In decoded connections, weights are automatically determined through decoder solving (what we've done in neuron reps and transformations). In direct connections however, weights can be manually specified through the transform argument. Read more about this [here](https://www.nengo.ai/nengo/connections.html). If this isn't intuitive to you, feel free to instead define functions."
   ]
  },
  {
   "cell_type": "code",
   "execution_count": 2,
   "metadata": {},
   "outputs": [],
   "source": [
    "model = nengo.Network(label=\"Integrator\")\n",
    "with model:\n",
    "    # create the recurrent neuron ensemble\n",
    "    A = nengo.Ensemble(100, dimensions=1)\n",
    "\n",
    "    # create piecewise input\n",
    "    input = nengo.Node(Piecewise({0: 0, 0.2: 1, 1: 0, 2: -2, 3: 0, 4: 1, 5: 0}))\n",
    "\n",
    "    # Using a long time constant for stability (less noise)\n",
    "    tau = 0.1\n",
    "\n",
    "    # if you wanted to define functions, they might look like this\n",
    "    # def forward(u):\n",
    "    #    return tau*u\n",
    "    # def recurrent(x):\n",
    "    #    return x\n",
    "\n",
    "    # Connect the population to itself --recurrence\n",
    "    nengo.Connection(A, A, transform=[[1]], synapse=tau)\n",
    "\n",
    "    # Connect the input --Feed Forward\n",
    "    # The same time constant as recurrent to make it more 'ideal'\n",
    "    nengo.Connection(input, A, transform=[[tau]], synapse=tau)"
   ]
  },
  {
   "cell_type": "markdown",
   "metadata": {},
   "source": [
    "#### Probe it and Run it"
   ]
  },
  {
   "cell_type": "code",
   "execution_count": 3,
   "metadata": {},
   "outputs": [
    {
     "data": {
      "application/vdom.v1+json": {
       "attributes": {},
       "tagName": "div"
      },
      "text/html": [
       "\n",
       "                <script>\n",
       "                    if (Jupyter.version.split(\".\")[0] < 5) {\n",
       "                        var pb = document.getElementById(\"80cfb7d1-e434-4ad2-9d71-3fafaf0d6362\");\n",
       "                        var text = document.createTextNode(\n",
       "                            \"HMTL progress bar requires Jupyter Notebook >= \" +\n",
       "                            \"5.0 or Jupyter Lab. Alternatively, you can use \" +\n",
       "                            \"TerminalProgressBar().\");\n",
       "                        pb.parentNode.insertBefore(text, pb);\n",
       "                    }\n",
       "                </script>\n",
       "                <div id=\"80cfb7d1-e434-4ad2-9d71-3fafaf0d6362\" style=\"\n",
       "                    width: 100%;\n",
       "                    border: 1px solid #cfcfcf;\n",
       "                    border-radius: 4px;\n",
       "                    text-align: center;\n",
       "                    position: relative;\">\n",
       "                  <div class=\"pb-text\" style=\"\n",
       "                      position: absolute;\n",
       "                      width: 100%;\">\n",
       "                    0%\n",
       "                  </div>\n",
       "                  <div class=\"pb-fill\" style=\"\n",
       "                      background-color: #bdd2e6;\n",
       "                      width: 0%;\">\n",
       "                    <style type=\"text/css\" scoped=\"scoped\">\n",
       "                        @keyframes pb-fill-anim {\n",
       "                            0% { background-position: 0 0; }\n",
       "                            100% { background-position: 100px 0; }\n",
       "                        }\n",
       "                    </style>\n",
       "                    &nbsp;\n",
       "                  </div>\n",
       "                </div>"
      ],
      "text/plain": [
       "HtmlProgressBar cannot be displayed. Please use the TerminalProgressBar. It can be enabled with `nengo.rc['progress']['progress_bar'] = 'nengo.utils.progress.TerminalProgressBar'`."
      ]
     },
     "metadata": {},
     "output_type": "display_data"
    },
    {
     "data": {
      "application/vdom.v1+json": {
       "attributes": {
        "id": "a33b331a-6307-47e7-b780-ac24c5caa522",
        "style": {
         "border": "1px solid #cfcfcf",
         "borderRadius": "4px",
         "boxSizing": "border-box",
         "position": "relative",
         "textAlign": "center",
         "width": "100%"
        }
       },
       "children": [
        {
         "attributes": {
          "class": "pb-text",
          "style": {
           "position": "absolute",
           "width": "100%"
          }
         },
         "children": [
          "Build finished in 0:00:01."
         ],
         "tagName": "div"
        },
        {
         "attributes": {
          "class": "pb-fill",
          "style": {
           "animation": "none",
           "backgroundColor": "#bdd2e6",
           "backgroundImage": "none",
           "backgroundSize": "100px 100%",
           "width": "100%"
          }
         },
         "children": [
          {
           "attributes": {
            "scoped": "scoped",
            "type": "text/css"
           },
           "children": [
            "\n                        @keyframes pb-fill-anim {\n                            0% { background-position: 0 0; }\n                            100% { background-position: 100px 0; }\n                        }}"
           ],
           "tagName": "style"
          },
          " "
         ],
         "tagName": "div"
        }
       ],
       "tagName": "div"
      },
      "text/html": [
       "<script>\n",
       "              (function () {\n",
       "                  var root = document.getElementById('80cfb7d1-e434-4ad2-9d71-3fafaf0d6362');\n",
       "                  var text = root.getElementsByClassName('pb-text')[0];\n",
       "                  var fill = root.getElementsByClassName('pb-fill')[0];\n",
       "\n",
       "                  text.innerHTML = 'Build finished in 0:00:01.';\n",
       "                  \n",
       "            fill.style.width = '100%';\n",
       "            fill.style.animation = 'pb-fill-anim 2s linear infinite';\n",
       "            fill.style.backgroundSize = '100px 100%';\n",
       "            fill.style.backgroundImage = 'repeating-linear-gradient(' +\n",
       "                '90deg, #bdd2e6, #edf2f8 40%, #bdd2e6 80%, #bdd2e6)';\n",
       "        \n",
       "                  \n",
       "                fill.style.animation = 'none';\n",
       "                fill.style.backgroundImage = 'none';\n",
       "            \n",
       "              })();\n",
       "        </script>"
      ]
     },
     "metadata": {},
     "output_type": "display_data"
    },
    {
     "data": {
      "application/vdom.v1+json": {
       "attributes": {},
       "tagName": "div"
      },
      "text/html": [
       "\n",
       "                <script>\n",
       "                    if (Jupyter.version.split(\".\")[0] < 5) {\n",
       "                        var pb = document.getElementById(\"1e97895c-3f06-4d96-a662-311bb30a0aef\");\n",
       "                        var text = document.createTextNode(\n",
       "                            \"HMTL progress bar requires Jupyter Notebook >= \" +\n",
       "                            \"5.0 or Jupyter Lab. Alternatively, you can use \" +\n",
       "                            \"TerminalProgressBar().\");\n",
       "                        pb.parentNode.insertBefore(text, pb);\n",
       "                    }\n",
       "                </script>\n",
       "                <div id=\"1e97895c-3f06-4d96-a662-311bb30a0aef\" style=\"\n",
       "                    width: 100%;\n",
       "                    border: 1px solid #cfcfcf;\n",
       "                    border-radius: 4px;\n",
       "                    text-align: center;\n",
       "                    position: relative;\">\n",
       "                  <div class=\"pb-text\" style=\"\n",
       "                      position: absolute;\n",
       "                      width: 100%;\">\n",
       "                    0%\n",
       "                  </div>\n",
       "                  <div class=\"pb-fill\" style=\"\n",
       "                      background-color: #bdd2e6;\n",
       "                      width: 0%;\">\n",
       "                    <style type=\"text/css\" scoped=\"scoped\">\n",
       "                        @keyframes pb-fill-anim {\n",
       "                            0% { background-position: 0 0; }\n",
       "                            100% { background-position: 100px 0; }\n",
       "                        }\n",
       "                    </style>\n",
       "                    &nbsp;\n",
       "                  </div>\n",
       "                </div>"
      ],
      "text/plain": [
       "HtmlProgressBar cannot be displayed. Please use the TerminalProgressBar. It can be enabled with `nengo.rc['progress']['progress_bar'] = 'nengo.utils.progress.TerminalProgressBar'`."
      ]
     },
     "metadata": {},
     "output_type": "display_data"
    },
    {
     "data": {
      "application/vdom.v1+json": {
       "attributes": {
        "id": "88c9c9fe-28c5-4f7d-ba5d-87be4d24b8ef",
        "style": {
         "border": "1px solid #cfcfcf",
         "borderRadius": "4px",
         "boxSizing": "border-box",
         "position": "relative",
         "textAlign": "center",
         "width": "100%"
        }
       },
       "children": [
        {
         "attributes": {
          "class": "pb-text",
          "style": {
           "position": "absolute",
           "width": "100%"
          }
         },
         "children": [
          "Simulation finished in 0:00:02."
         ],
         "tagName": "div"
        },
        {
         "attributes": {
          "class": "pb-fill",
          "style": {
           "animation": "none",
           "backgroundColor": "#bdd2e6",
           "backgroundImage": "none",
           "transition": "width 0.1s linear",
           "width": "100%"
          }
         },
         "children": [
          {
           "attributes": {
            "scoped": "scoped",
            "type": "text/css"
           },
           "children": [
            "\n                        @keyframes pb-fill-anim {\n                            0% { background-position: 0 0; }\n                            100% { background-position: 100px 0; }\n                        }}"
           ],
           "tagName": "style"
          },
          " "
         ],
         "tagName": "div"
        }
       ],
       "tagName": "div"
      },
      "text/html": [
       "<script>\n",
       "              (function () {\n",
       "                  var root = document.getElementById('1e97895c-3f06-4d96-a662-311bb30a0aef');\n",
       "                  var text = root.getElementsByClassName('pb-text')[0];\n",
       "                  var fill = root.getElementsByClassName('pb-fill')[0];\n",
       "\n",
       "                  text.innerHTML = 'Simulation finished in 0:00:02.';\n",
       "                  \n",
       "            if (100.0 > 0.) {\n",
       "                fill.style.transition = 'width 0.1s linear';\n",
       "            } else {\n",
       "                fill.style.transition = 'none';\n",
       "            }\n",
       "\n",
       "            fill.style.width = '100.0%';\n",
       "            fill.style.animation = 'none';\n",
       "            fill.style.backgroundImage = 'none'\n",
       "        \n",
       "                  \n",
       "                fill.style.animation = 'none';\n",
       "                fill.style.backgroundImage = 'none';\n",
       "            \n",
       "              })();\n",
       "        </script>"
      ]
     },
     "metadata": {},
     "output_type": "display_data"
    }
   ],
   "source": [
    "with model:\n",
    "    # Add probes\n",
    "    input_probe = nengo.Probe(input)\n",
    "    A_probe = nengo.Probe(A, synapse=0.01)\n",
    "\n",
    "# Create our simulator\n",
    "with nengo.Simulator(model) as sim:\n",
    "    # Run it for 6 seconds\n",
    "    sim.run(6)"
   ]
  },
  {
   "cell_type": "markdown",
   "metadata": {},
   "source": [
    "#### Plot it"
   ]
  },
  {
   "cell_type": "code",
   "execution_count": 4,
   "metadata": {},
   "outputs": [
    {
     "data": {
      "text/plain": [
       "<matplotlib.legend.Legend at 0x17a37c85690>"
      ]
     },
     "execution_count": 4,
     "metadata": {},
     "output_type": "execute_result"
    },
    {
     "data": {
      "image/png": "[encoded data removed]",
      "text/plain": [
       "<Figure size 640x480 with 1 Axes>"
      ]
     },
     "metadata": {},
     "output_type": "display_data"
    }
   ],
   "source": [
    "# Plot the decoded output of the ensemble\n",
    "plt.figure()\n",
    "plt.plot(sim.trange(), sim.data[input_probe], label=\"Input\")\n",
    "plt.plot(sim.trange(), sim.data[A_probe], \"k\", label=\"Integrator output\")\n",
    "plt.legend()"
   ]
  },
  {
   "cell_type": "markdown",
   "metadata": {},
   "source": [
    "#### Discussion\n",
    "\n",
    "The graph shows the response to the input by the integrator. Because it is implemented in neurons, it will not be perfect (i.e. there will be drift). Running several times will give a sense of the kinds of drift you might expect. Drift can be reduced by increasing the number of neurons, using a larger time constant (100-200ms work pretty well for feedback), or changing the inputs more rapidly.\n",
    "\n",
    "Intuition check: this integrator function is _not_ trying to represent the input signal. Instead, you can think of the input signal as a velocity at which you are moving until the input changes or becomes zero. When the input becomes zero, you can see the \"memory\" at play. Think through this in terms of eye movement, where the input signal is the velocity at which your eye is moving. "
   ]
  },
  {
   "cell_type": "markdown",
   "metadata": {},
   "source": [
    "### Simple Oscillator\n",
    "\n",
    "Have you had to do some physics math regarding a spring on a block that's sliding on a frictionless surface? Or a pendullum? These are good examples of simple harmonic oscillators, and we can implement these using recurrent neurons! Turns out this is also biologically plausible - think of repetitive or rhythmic movements (walking, chewing, etc) - and neurons have been measured to show this oscillatory behavior for comparable movements in fish. \n",
    "\n",
    "Let's work through a spring on a block that slides on a frictionless surface. Here, we have \n",
    "\n",
    "$$F=-kx=ma=m\\ddot{x}$$\n",
    "\n",
    "where $x$ is position, $F$ is the force applied to the block, $k$ is our spring constant, $m$ is our mass of the object, and $\\ddot{x}$ is acceleration of the mass as a result of force. This can be rearranged to a 2nd order ODE:\n",
    "\n",
    "$$ \\ddot{x}+\\frac{k}{m}x=0 $$\n",
    "\n",
    "This looks different than the other examples we've done where $$\\dot{x}=f(x)+g(u)=Ax+Bu$$. First, we will assume an unforced oscillator, therefore $Bu$ goes to 0. We'd now like to rewrite our problem in the form of $\\dot{x}=Ax$. Let $\\omega=\\sqrt{\\frac{k}{m}}$. With some magical math, we can get something that looks like that form:\n",
    "\n",
    "$$\\begin{bmatrix}\n",
    "    \\dot{x}_0 \\\\\n",
    "    \\dot{x}_1 \n",
    "\\end{bmatrix} = \\begin{bmatrix}\n",
    "\t\t            0 & \\omega \\\\\n",
    "\t\t            -\\omega & 0  \n",
    "\t            \\end{bmatrix} \\begin{bmatrix}\n",
    "                                    x_0 \\\\\n",
    "                                    x_1 \n",
    "                                \\end{bmatrix}$$\n",
    "\n",
    "Let's now take that back to defining our feed forward and feedback functions:\n",
    "\n",
    "$$\\dot{f}(x)= \\tau f(x) + x = \\tau Ax + x = \\begin{bmatrix}\n",
    "\t\t            0 & \\tau \\omega \\\\\n",
    "\t\t            -\\tau \\omega & 0  \n",
    "\t            \\end{bmatrix}\\begin{bmatrix}\n",
    "                                    x_0 \\\\\n",
    "                                    x_1 \n",
    "                                \\end{bmatrix}+ \\begin{bmatrix}\n",
    "                                                    x_0 \\\\\n",
    "                                                    x_1 \n",
    "                                                \\end{bmatrix}= \\begin{bmatrix}\n",
    "                                                                    \\tau \\omega x_1 + x_0 \\\\\n",
    "                                                                    -\\tau \\omega x_0 +x_1\n",
    "                                                                \\end{bmatrix}$$\n",
    "$$\\dot{g}(u)=\\tau g(u)  =\\tau Bu = 0$$ \n",
    "\n",
    "To implement $\\begin{bmatrix}\n",
    "                \\tau x_1 + x_0 \\\\\n",
    "                -\\tau x_0 +x_1\n",
    "            \\end{bmatrix}$ in Nengo, we can use the `transform` argument to get the matrix $\\begin{bmatrix}\n",
    "                                                                                                1 & \\tau \\omega \\\\\n",
    "                                                                                                -\\tau\\omega & 1\n",
    "                                                                                            \\end{bmatrix}$.\n",
    "\n",
    "We will provide a brief input signal to trigger the oscillatory behavior of the neural representation as the two dimensions interact (i.e. $x[0]=1$ for .1 seconds, otherwise everything is 0)."
   ]
  },
  {
   "cell_type": "code",
   "execution_count": null,
   "metadata": {},
   "outputs": [],
   "source": [
    "# Create the model object\n",
    "model = nengo.Network(label=\"Oscillator\")\n",
    "\n",
    "tau = 0.1\n",
    "omega = 10\n",
    "\n",
    "with model:\n",
    "    # Create the ensemble for the oscillator\n",
    "    neurons = nengo.Ensemble(200, dimensions=2)\n",
    "\n",
    "    # Create an input signal\n",
    "    # x0 is 1 for .1s, x0 and x1 are 0 otherwise\n",
    "    input = nengo.Node(Piecewise({0: [1, 0], 0.1: [0, 0]}))\n",
    "\n",
    "    # Connect the input signal to the neural ensemble\n",
    "    nengo.Connection(input, neurons)\n",
    "\n",
    "    # Create the feedback connection using our transform matrix\n",
    "    nengo.Connection(\n",
    "        neurons, neurons, transform=[[1, tau * omega], [-tau * omega, 1]], synapse=0.1\n",
    "    )\n",
    "\n",
    "    # You could define a function and use that instead of transform\n",
    "    # def recurrent(x):\n",
    "    #    return [tau*omega*x[1]+x[0],-tau*omega*x[0]+x[1]]\n",
    "    # nengo.Connection(neurons, neurons, function=recurrent, synapse=0.1)"
   ]
  },
  {
   "cell_type": "markdown",
   "metadata": {},
   "source": [
    "Probe it, run it, plot it."
   ]
  },
  {
   "cell_type": "code",
   "execution_count": null,
   "metadata": {},
   "outputs": [],
   "source": [
    "with model:\n",
    "    input_probe = nengo.Probe(input, \"output\")\n",
    "    neuron_probe = nengo.Probe(neurons, \"decoded_output\", synapse=0.1)\n",
    "\n",
    "# Create the simulator\n",
    "with nengo.Simulator(model) as sim:\n",
    "    # Run it for 5 seconds\n",
    "    sim.run(5)\n",
    "\n",
    "plt.figure()\n",
    "plt.plot(sim.trange(), sim.data[neuron_probe])\n",
    "plt.xlabel(\"Time (s)\", fontsize=\"large\")\n",
    "plt.legend([\"$x_0$\", \"$x_1$\"])\n",
    "\n",
    "data = sim.data[neuron_probe]\n",
    "plt.figure()\n",
    "plt.plot(data[:, 0], data[:, 1], label=\"Decoded Output\")\n",
    "plt.xlabel(\"$x_0$\", fontsize=20)\n",
    "plt.ylabel(\"$x_1$\", fontsize=20)\n",
    "plt.legend()"
   ]
  },
  {
   "cell_type": "markdown",
   "metadata": {},
   "source": [
    "#### Discussion\n",
    "\n",
    "If we look at the changes to $\\dot{x}$, we can see that $\\dot{x}_0 = \\omega x_1$ and $\\dot{x}_1 = -\\omega x_0$\n",
    "$$\\begin{bmatrix}\n",
    "    \\dot{x}_0 \\\\\n",
    "    \\dot{x}_1 \n",
    "\\end{bmatrix} = \\begin{bmatrix}\n",
    "\t\t            0 & \\omega \\\\\n",
    "\t\t            -\\omega & 0  \n",
    "\t            \\end{bmatrix} \\begin{bmatrix}\n",
    "                                    x_0 \\\\\n",
    "                                    x_1 \n",
    "                                \\end{bmatrix}$$\n",
    "                                \n",
    "In both plots, you can see that as $x_0$ gets more positive, $x_1$ gets more negative and vice versa. Recall the earlier notes on the synapses for the recurrent neurons. Smaller time constants will cause significant drift. Larger time constants will decrease the drift. **Try it!**\n",
    "\n",
    "We can also adjust the $\\omega$ term to change the frequency of oscillation. We do so by (Nengo) learning new decoder weights! **Try it!**\n",
    "\n",
    "An example for a [controlled oscillator](https://www.nengo.ai/nengo/examples/dynamics/controlled-oscillator.html) is available online and is a far more elegant example. The above example does not have an additional input that controls the frequency of the oscillations. Instead, once things are kicked off they keep going at the same frequency until the amplitudes decay back to zero. "
   ]
  },
  {
   "cell_type": "markdown",
   "metadata": {},
   "source": [
    "### Resources\n",
    "\n",
    "Other dynamics tutorials [can be found here](https://www.nengo.ai/nengo/examples.html#building-dynamical-systems).  \n",
    "Every example we cover in this notebook can be found [in this video](https://youtu.be/Fl4cfZCie-w?si=eSyLzeAu2jluMFZ3).\n"
   ]
  }
 ],
 "metadata": {
  "kernelspec": {
   "display_name": "py3.10-nengo3.2",
   "language": "python",
   "name": "python3"
  },
  "language_info": {
   "codemirror_mode": {
    "name": "ipython",
    "version": 3
   },
   "file_extension": ".py",
   "mimetype": "text/x-python",
   "name": "python",
   "nbconvert_exporter": "python",
   "pygments_lexer": "ipython3",
   "version": "3.10.13"
  }
 },
 "nbformat": 4,
 "nbformat_minor": 2
}
