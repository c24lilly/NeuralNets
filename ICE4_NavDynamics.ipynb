{
 "cells": [
  {
   "cell_type": "markdown",
   "metadata": {},
   "source": [
    "## ECE495 In-class Exercise 4: Navigation Dynamics using Nengo\n",
    "\n",
    "This ICE uses Nengo to sort an array using the bubble sort algorithm. The objectives of this ICE are to:\n",
    "\n",
    "- Connect two integrators (building off of the integrator from `neuron_dynamics.ipynb`) to use acceleration as your input.\n",
    "- Implement the same thing using a multi-dimensional neuron.\n",
    "- Extend your position, velocity, and acceleration components to two dimensions (i.e. x- and y- directions)."
   ]
  },
  {
   "cell_type": "markdown",
   "metadata": {},
   "source": [
    "#### Set up\n",
    "\n",
    "**Ensure you are using your [495 Virtual Environment](https://github.com/kaitlin-fair/495venv_setup) before you begin!**  \n",
    "    \n",
    "Import Nengo and other supporting libraries into your program to get started:"
   ]
  },
  {
   "cell_type": "code",
   "execution_count": 1,
   "metadata": {},
   "outputs": [],
   "source": [
    "import matplotlib.pyplot as plt\n",
    "import numpy as np\n",
    "\n",
    "import nengo\n",
    "\n",
    "from nengo.dists import Uniform\n",
    "from nengo.utils.matplotlib import rasterplot\n",
    "from nengo.processes import Piecewise"
   ]
  },
  {
   "cell_type": "markdown",
   "metadata": {},
   "source": [
    "### Nengo Dynamics Review\n",
    "\n",
    "Recall from `neuron_dynamics.ipynb` that we used recurrent neurons to perform a variety of functions. As a refresh, we started each time with this linear dynamical system:\n",
    "\n",
    "$$\\dot{x}=f(x)+g(u)=Ax+Bu$$\n",
    "\n",
    "where $x$ is our output state, $u$ is our input. $A$ and $B$ determine the direction/strength of $x$ and $u$ contributions. \n",
    "\n",
    "However, Nengo neurons have their own inherent feed forward dynamics: $\\dot{x(t)}=-\\frac{1}{\\tau}(x(t))-u(t))$. These dynamics tell us that $x_{new} = x_{old}+\\dot{x}$, where $x_{new}$ is the output of our neuron ensemble and $\\dot{x}$ is the input to our ensemble (draw block diagram).\n",
    "\n",
    "To get the neuron ensemble to behave in the way a typical linear dynamical system behaves - i.e. $\\dot{x}=f(x)+g(u)=Ax+Bu$ - we must define different functions $f'$ and $g'$. If this doesn't make sense, please go back and review the beginning of our notebook and/or watch [this video](https://youtu.be/Fl4cfZCie-w?si=2o1grgrPgoPkuPvV) from 5 to 28 minutes. \n",
    "\n",
    "The takeaway: Using $f'$ as the feedback function and $g'$ as the feed forward function, _we convert the inherent neuron dynamics into typical controls system dynamics._"
   ]
  },
  {
   "cell_type": "markdown",
   "metadata": {},
   "source": [
    "### Two Integrators in Sequence\n",
    "\n",
    "In `neuron_dynamics.ipynb`, we converted a 1-D velocity signal $v$ into position $p$ using an integrator. Given that $\\dot{p}(t)=v(t)$ (i.e. derivative of position is velocity), it should make sense that with each time step, we move toward a position (our output in meters) at some velocity (our input in m/s). \n",
    "\n",
    "To convert the inherent neuron dynamics to typicaly control dynamics, we defined functions for our feed forward and feedback aspects of our recurrent network for an integrator to be:\n",
    "\n",
    "$$f'(x)= \\tau f(x) + x = \\tau Ax + x = x$$\n",
    "$$g'(u)=\\tau g(u)  =\\tau Bu = \\tau Iu =\\tau u$$ \n",
    "\n",
    "Intuitively, this should make sense. Each time step, our new position $p$ is equal to dynamics $p = f' + g' = x + \\tau u$ where $x$ is our output state $x$ and $u$ is our input velocity. If our velocity is 1m/s and we run our simulation for 1 second, we should move 1 meter total. However, we have many time steps within that 1 second, so we move a fraction of 1m each time step - you can think of $\\tau$ as the scale term, i.e. how quickly we respond to the input velocity.\n",
    "\n",
    "For this example, we will connect the integrator we created in `neuron_dynamics.ipynb` to an identical integrator. The final output of the network is position $p$ (i.e. the output of the second neuron ensemble), and the input to that ensemble is velocity (i.e. $\\dot{p}$). We connect an neuron ensemble to the front end, from which the output is velocity (give that's the input to the second ensemble). That means the input to the first ensemble (and therefore entire network) is.... acceleration ($\\dot{v}$)!\n",
    "\n",
    "Our input acceleration is a piecewise function so you can see that the output is integrating (i.e. summing over time) the input. If we have a constant acceleration, we should see velocity ramp up. Recall, for a constant velocity, we have position ramp up. This time, with a velocity changing over time, we should see position change faster for higher velocities - so we should _not_ see a straight line output from the network. Let's give it a go:"
   ]
  },
  {
   "cell_type": "code",
   "execution_count": 2,
   "metadata": {},
   "outputs": [],
   "source": [
    "model = nengo.Network(label=\"Sequence Integrators\")\n",
    "with model:\n",
    "    # create the recurrent neuron ensemble\n",
    "    A = nengo.Ensemble(100, dimensions=1)\n",
    "    B = nengo.Ensemble(100, dimensions=1)\n",
    "\n",
    "    # create piecewise input\n",
    "    input = nengo.Node(Piecewise({0: 0.5, 1: 0, 2: -1, 3: 0, 4: 1, 5: 0}))\n",
    "\n",
    "    # Using a long time constant for stability (less noise)\n",
    "    tau = 0.1\n",
    "\n",
    "    # if you wanted to define functions, they might look like this\n",
    "    # def forward(u):\n",
    "    #    return tau*u\n",
    "    # def recurrent(x):\n",
    "    #    return x\n",
    "\n",
    "    # Connect the input to the network (Ensemble A)\n",
    "    # The same time constant as recurrent to make it more 'ideal'\n",
    "    nengo.Connection(input, A, transform=[[tau]], synapse=tau)\n",
    "    # Connect the population to itself\n",
    "    nengo.Connection(A, A, transform=[[1]], synapse=tau)\n",
    "\n",
    "    # Connect the output of Ensemble A to Ensemble B\n",
    "    # The same time constant as recurrent to make it more 'ideal'\n",
    "    nengo.Connection(A, B, transform=[[tau]], synapse=tau)\n",
    "    # Connect the population to itself\n",
    "    nengo.Connection(B, B, transform=[[1]], synapse=tau)"
   ]
  },
  {
   "cell_type": "markdown",
   "metadata": {},
   "source": [
    "#### Probe it and Run it"
   ]
  },
  {
   "cell_type": "code",
   "execution_count": 3,
   "metadata": {},
   "outputs": [
    {
     "data": {
      "application/vdom.v1+json": {
       "attributes": {},
       "tagName": "div"
      },
      "text/html": [
       "\n",
       "                <script>\n",
       "                    if (Jupyter.version.split(\".\")[0] < 5) {\n",
       "                        var pb = document.getElementById(\"efecb94b-6a95-4bc1-930a-fc0e06457cf9\");\n",
       "                        var text = document.createTextNode(\n",
       "                            \"HMTL progress bar requires Jupyter Notebook >= \" +\n",
       "                            \"5.0 or Jupyter Lab. Alternatively, you can use \" +\n",
       "                            \"TerminalProgressBar().\");\n",
       "                        pb.parentNode.insertBefore(text, pb);\n",
       "                    }\n",
       "                </script>\n",
       "                <div id=\"efecb94b-6a95-4bc1-930a-fc0e06457cf9\" style=\"\n",
       "                    width: 100%;\n",
       "                    border: 1px solid #cfcfcf;\n",
       "                    border-radius: 4px;\n",
       "                    text-align: center;\n",
       "                    position: relative;\">\n",
       "                  <div class=\"pb-text\" style=\"\n",
       "                      position: absolute;\n",
       "                      width: 100%;\">\n",
       "                    0%\n",
       "                  </div>\n",
       "                  <div class=\"pb-fill\" style=\"\n",
       "                      background-color: #bdd2e6;\n",
       "                      width: 0%;\">\n",
       "                    <style type=\"text/css\" scoped=\"scoped\">\n",
       "                        @keyframes pb-fill-anim {\n",
       "                            0% { background-position: 0 0; }\n",
       "                            100% { background-position: 100px 0; }\n",
       "                        }\n",
       "                    </style>\n",
       "                    &nbsp;\n",
       "                  </div>\n",
       "                </div>"
      ],
      "text/plain": [
       "HtmlProgressBar cannot be displayed. Please use the TerminalProgressBar. It can be enabled with `nengo.rc['progress']['progress_bar'] = 'nengo.utils.progress.TerminalProgressBar'`."
      ]
     },
     "metadata": {},
     "output_type": "display_data"
    },
    {
     "data": {
      "application/vdom.v1+json": {
       "attributes": {
        "id": "177e2e97-015c-4bcf-b754-df9f9ee89fe3",
        "style": {
         "border": "1px solid #cfcfcf",
         "borderRadius": "4px",
         "boxSizing": "border-box",
         "position": "relative",
         "textAlign": "center",
         "width": "100%"
        }
       },
       "children": [
        {
         "attributes": {
          "class": "pb-text",
          "style": {
           "position": "absolute",
           "width": "100%"
          }
         },
         "children": [
          "Build finished in 0:00:01."
         ],
         "tagName": "div"
        },
        {
         "attributes": {
          "class": "pb-fill",
          "style": {
           "animation": "none",
           "backgroundColor": "#bdd2e6",
           "backgroundImage": "none",
           "backgroundSize": "100px 100%",
           "width": "100%"
          }
         },
         "children": [
          {
           "attributes": {
            "scoped": "scoped",
            "type": "text/css"
           },
           "children": [
            "\n                        @keyframes pb-fill-anim {\n                            0% { background-position: 0 0; }\n                            100% { background-position: 100px 0; }\n                        }}"
           ],
           "tagName": "style"
          },
          " "
         ],
         "tagName": "div"
        }
       ],
       "tagName": "div"
      },
      "text/html": [
       "<script>\n",
       "              (function () {\n",
       "                  var root = document.getElementById('efecb94b-6a95-4bc1-930a-fc0e06457cf9');\n",
       "                  var text = root.getElementsByClassName('pb-text')[0];\n",
       "                  var fill = root.getElementsByClassName('pb-fill')[0];\n",
       "\n",
       "                  text.innerHTML = 'Build finished in 0:00:01.';\n",
       "                  \n",
       "            fill.style.width = '100%';\n",
       "            fill.style.animation = 'pb-fill-anim 2s linear infinite';\n",
       "            fill.style.backgroundSize = '100px 100%';\n",
       "            fill.style.backgroundImage = 'repeating-linear-gradient(' +\n",
       "                '90deg, #bdd2e6, #edf2f8 40%, #bdd2e6 80%, #bdd2e6)';\n",
       "        \n",
       "                  \n",
       "                fill.style.animation = 'none';\n",
       "                fill.style.backgroundImage = 'none';\n",
       "            \n",
       "              })();\n",
       "        </script>"
      ]
     },
     "metadata": {},
     "output_type": "display_data"
    },
    {
     "data": {
      "application/vdom.v1+json": {
       "attributes": {},
       "tagName": "div"
      },
      "text/html": [
       "\n",
       "                <script>\n",
       "                    if (Jupyter.version.split(\".\")[0] < 5) {\n",
       "                        var pb = document.getElementById(\"489b013b-7da7-4ac4-9652-6317bf8e8318\");\n",
       "                        var text = document.createTextNode(\n",
       "                            \"HMTL progress bar requires Jupyter Notebook >= \" +\n",
       "                            \"5.0 or Jupyter Lab. Alternatively, you can use \" +\n",
       "                            \"TerminalProgressBar().\");\n",
       "                        pb.parentNode.insertBefore(text, pb);\n",
       "                    }\n",
       "                </script>\n",
       "                <div id=\"489b013b-7da7-4ac4-9652-6317bf8e8318\" style=\"\n",
       "                    width: 100%;\n",
       "                    border: 1px solid #cfcfcf;\n",
       "                    border-radius: 4px;\n",
       "                    text-align: center;\n",
       "                    position: relative;\">\n",
       "                  <div class=\"pb-text\" style=\"\n",
       "                      position: absolute;\n",
       "                      width: 100%;\">\n",
       "                    0%\n",
       "                  </div>\n",
       "                  <div class=\"pb-fill\" style=\"\n",
       "                      background-color: #bdd2e6;\n",
       "                      width: 0%;\">\n",
       "                    <style type=\"text/css\" scoped=\"scoped\">\n",
       "                        @keyframes pb-fill-anim {\n",
       "                            0% { background-position: 0 0; }\n",
       "                            100% { background-position: 100px 0; }\n",
       "                        }\n",
       "                    </style>\n",
       "                    &nbsp;\n",
       "                  </div>\n",
       "                </div>"
      ],
      "text/plain": [
       "HtmlProgressBar cannot be displayed. Please use the TerminalProgressBar. It can be enabled with `nengo.rc['progress']['progress_bar'] = 'nengo.utils.progress.TerminalProgressBar'`."
      ]
     },
     "metadata": {},
     "output_type": "display_data"
    },
    {
     "data": {
      "application/vdom.v1+json": {
       "attributes": {
        "id": "04f70297-30f9-44af-87e4-8d73ca8c42fd",
        "style": {
         "border": "1px solid #cfcfcf",
         "borderRadius": "4px",
         "boxSizing": "border-box",
         "position": "relative",
         "textAlign": "center",
         "width": "100%"
        }
       },
       "children": [
        {
         "attributes": {
          "class": "pb-text",
          "style": {
           "position": "absolute",
           "width": "100%"
          }
         },
         "children": [
          "Simulation finished in 0:00:03."
         ],
         "tagName": "div"
        },
        {
         "attributes": {
          "class": "pb-fill",
          "style": {
           "animation": "none",
           "backgroundColor": "#bdd2e6",
           "backgroundImage": "none",
           "transition": "width 0.1s linear",
           "width": "100%"
          }
         },
         "children": [
          {
           "attributes": {
            "scoped": "scoped",
            "type": "text/css"
           },
           "children": [
            "\n                        @keyframes pb-fill-anim {\n                            0% { background-position: 0 0; }\n                            100% { background-position: 100px 0; }\n                        }}"
           ],
           "tagName": "style"
          },
          " "
         ],
         "tagName": "div"
        }
       ],
       "tagName": "div"
      },
      "text/html": [
       "<script>\n",
       "              (function () {\n",
       "                  var root = document.getElementById('489b013b-7da7-4ac4-9652-6317bf8e8318');\n",
       "                  var text = root.getElementsByClassName('pb-text')[0];\n",
       "                  var fill = root.getElementsByClassName('pb-fill')[0];\n",
       "\n",
       "                  text.innerHTML = 'Simulation finished in 0:00:03.';\n",
       "                  \n",
       "            if (100.0 > 0.) {\n",
       "                fill.style.transition = 'width 0.1s linear';\n",
       "            } else {\n",
       "                fill.style.transition = 'none';\n",
       "            }\n",
       "\n",
       "            fill.style.width = '100.0%';\n",
       "            fill.style.animation = 'none';\n",
       "            fill.style.backgroundImage = 'none'\n",
       "        \n",
       "                  \n",
       "                fill.style.animation = 'none';\n",
       "                fill.style.backgroundImage = 'none';\n",
       "            \n",
       "              })();\n",
       "        </script>"
      ]
     },
     "metadata": {},
     "output_type": "display_data"
    }
   ],
   "source": [
    "with model:\n",
    "    # Add probes\n",
    "    input_probe = nengo.Probe(input)\n",
    "    A_probe = nengo.Probe(A, synapse=0.01)\n",
    "    B_probe = nengo.Probe(B, synapse=0.01)\n",
    "\n",
    "# Create our simulator\n",
    "with nengo.Simulator(model) as sim:\n",
    "    # Run it for 6 seconds\n",
    "    sim.run(6)"
   ]
  },
  {
   "cell_type": "markdown",
   "metadata": {},
   "source": [
    "#### Plot it"
   ]
  },
  {
   "cell_type": "code",
   "execution_count": 4,
   "metadata": {},
   "outputs": [
    {
     "data": {
      "text/plain": [
       "<matplotlib.legend.Legend at 0x2e6fa4f7f10>"
      ]
     },
     "execution_count": 4,
     "metadata": {},
     "output_type": "execute_result"
    },
    {
     "data": {
      "image/png": "[encoded data removed]",
      "text/plain": [
       "<Figure size 640x480 with 1 Axes>"
      ]
     },
     "metadata": {},
     "output_type": "display_data"
    }
   ],
   "source": [
    "# Plot the decoded output of the ensemble\n",
    "plt.figure()\n",
    "plt.plot(sim.trange(), sim.data[input_probe], label=\"Network Input - Acceleration\")\n",
    "plt.plot(sim.trange(), sim.data[A_probe], label=\"Ensemble B Input - Velocity\")\n",
    "plt.plot(sim.trange(), sim.data[B_probe], \"k\", label=\"Network Output - position\")\n",
    "plt.legend()"
   ]
  },
  {
   "cell_type": "markdown",
   "metadata": {},
   "source": [
    "Cool!"
   ]
  },
  {
   "cell_type": "markdown",
   "metadata": {},
   "source": [
    "### Convert Integrators in Sequence into a Single Neuron Ensemble (and do the same thing)\n",
    "\n",
    "We can make this more efficient by creating a 2D neuron that outputs both velocity $v$ and position $p$ as a function of input acceleration $a$, similarly constructed to the oscillator example from `neuron_dynamics.ipynb`. In this case, our input $u$ is acceleration, i.e. $a=\\dot{v}$ and our output is both position $p$ and velocity $v$, i.e. $x = \\begin{bmatrix} p \\\\ v \\end{bmatrix}$.  \n",
    "  \n",
    "  \n",
    "Now we just need our matrices $A$ and $B$ for linear dynamics $\\dot{x}=f(x)+g(u)=Ax+Bu$ in order to compute $f'$ and $g'$.  \n",
    "  \n",
    "  \n",
    "Let's think through this: $u$ is acceleration $a=\\dot{v}$. We don't want to mess with that - we just want our input acceleration to be our chosen acceleration (the blue piecewise function above). That's 1D and our neuron ensemble is 2D, which means we need a matrix that converts our 1D acceleration to a 2D input.  Therefore, matrix $B=\\begin{bmatrix} 0 \\\\ 1 \\end{bmatrix}$. Why?? Because our output $x$ is equal to $\\begin{bmatrix} p \\\\ v \\end{bmatrix}$ and in our integrator, our input $u=\\begin{bmatrix} \\dot{p} \\\\ \\dot{v} \\end{bmatrix}$. We do not have an input velocity, only an input acceleration. Given $a=\\dot{v}$, we get $B=\\begin{bmatrix} 0 \\\\ 1 \\end{bmatrix}$.  \n",
    "  \n",
    "Before we dive into determining A, do you remember our working memory example? If you had any contribution from A, you gradually reset your output to zero. This means we need an $\\alpha$ term that's only active when we provide acceleration and zero when we don't (so it holds velocity instead of resetting it).\n",
    "  \n",
    "Now, we know $\\dot{x}=Ax+Bu$. Let's find A by relating $\\dot{x}$ to $x$. Given we know $\\dot{x}=\\begin{bmatrix} \\dot{p} \\\\ \\dot{v} \\end{bmatrix}$ and $x=\\begin{bmatrix} p \\\\ v \\end{bmatrix}$:\n",
    "\n",
    "\n",
    "$$\\dot{x} = \\begin{bmatrix}\n",
    "    \\dot{p} \\\\\n",
    "    \\dot{v} \n",
    "\\end{bmatrix} = \\begin{bmatrix}\n",
    "\t\t            0 & 1 \\\\\n",
    "\t\t            0 & 0  \n",
    "\t            \\end{bmatrix} \\begin{bmatrix}\n",
    "                                    p \\\\\n",
    "                                    v \n",
    "                                \\end{bmatrix} = Ax$$\n",
    "\n",
    "From there, define your $f'$ and $g'$ to create the 2D neuron ensemble to implement these dynamics (insert your matrices in place of the `???`). You should get a very similar plot to the integrators in sequence.\n",
    "\n"
   ]
  },
  {
   "cell_type": "code",
   "execution_count": 6,
   "metadata": {},
   "outputs": [
    {
     "data": {
      "application/vdom.v1+json": {
       "attributes": {},
       "tagName": "div"
      },
      "text/html": [
       "\n",
       "                <script>\n",
       "                    if (Jupyter.version.split(\".\")[0] < 5) {\n",
       "                        var pb = document.getElementById(\"ce805955-3e5b-4252-b76c-49c5904fad93\");\n",
       "                        var text = document.createTextNode(\n",
       "                            \"HMTL progress bar requires Jupyter Notebook >= \" +\n",
       "                            \"5.0 or Jupyter Lab. Alternatively, you can use \" +\n",
       "                            \"TerminalProgressBar().\");\n",
       "                        pb.parentNode.insertBefore(text, pb);\n",
       "                    }\n",
       "                </script>\n",
       "                <div id=\"ce805955-3e5b-4252-b76c-49c5904fad93\" style=\"\n",
       "                    width: 100%;\n",
       "                    border: 1px solid #cfcfcf;\n",
       "                    border-radius: 4px;\n",
       "                    text-align: center;\n",
       "                    position: relative;\">\n",
       "                  <div class=\"pb-text\" style=\"\n",
       "                      position: absolute;\n",
       "                      width: 100%;\">\n",
       "                    0%\n",
       "                  </div>\n",
       "                  <div class=\"pb-fill\" style=\"\n",
       "                      background-color: #bdd2e6;\n",
       "                      width: 0%;\">\n",
       "                    <style type=\"text/css\" scoped=\"scoped\">\n",
       "                        @keyframes pb-fill-anim {\n",
       "                            0% { background-position: 0 0; }\n",
       "                            100% { background-position: 100px 0; }\n",
       "                        }\n",
       "                    </style>\n",
       "                    &nbsp;\n",
       "                  </div>\n",
       "                </div>"
      ],
      "text/plain": [
       "HtmlProgressBar cannot be displayed. Please use the TerminalProgressBar. It can be enabled with `nengo.rc['progress']['progress_bar'] = 'nengo.utils.progress.TerminalProgressBar'`."
      ]
     },
     "metadata": {},
     "output_type": "display_data"
    },
    {
     "data": {
      "application/vdom.v1+json": {
       "attributes": {
        "id": "386f675b-f47e-4dc7-8745-f80674808f3a",
        "style": {
         "border": "1px solid #cfcfcf",
         "borderRadius": "4px",
         "boxSizing": "border-box",
         "position": "relative",
         "textAlign": "center",
         "width": "100%"
        }
       },
       "children": [
        {
         "attributes": {
          "class": "pb-text",
          "style": {
           "position": "absolute",
           "width": "100%"
          }
         },
         "children": [
          "Build finished in 0:00:01."
         ],
         "tagName": "div"
        },
        {
         "attributes": {
          "class": "pb-fill",
          "style": {
           "animation": "none",
           "backgroundColor": "#bdd2e6",
           "backgroundImage": "none",
           "backgroundSize": "100px 100%",
           "width": "100%"
          }
         },
         "children": [
          {
           "attributes": {
            "scoped": "scoped",
            "type": "text/css"
           },
           "children": [
            "\n                        @keyframes pb-fill-anim {\n                            0% { background-position: 0 0; }\n                            100% { background-position: 100px 0; }\n                        }}"
           ],
           "tagName": "style"
          },
          " "
         ],
         "tagName": "div"
        }
       ],
       "tagName": "div"
      },
      "text/html": [
       "<script>\n",
       "              (function () {\n",
       "                  var root = document.getElementById('ce805955-3e5b-4252-b76c-49c5904fad93');\n",
       "                  var text = root.getElementsByClassName('pb-text')[0];\n",
       "                  var fill = root.getElementsByClassName('pb-fill')[0];\n",
       "\n",
       "                  text.innerHTML = 'Build finished in 0:00:01.';\n",
       "                  \n",
       "            fill.style.width = '100%';\n",
       "            fill.style.animation = 'pb-fill-anim 2s linear infinite';\n",
       "            fill.style.backgroundSize = '100px 100%';\n",
       "            fill.style.backgroundImage = 'repeating-linear-gradient(' +\n",
       "                '90deg, #bdd2e6, #edf2f8 40%, #bdd2e6 80%, #bdd2e6)';\n",
       "        \n",
       "                  \n",
       "                fill.style.animation = 'none';\n",
       "                fill.style.backgroundImage = 'none';\n",
       "            \n",
       "              })();\n",
       "        </script>"
      ]
     },
     "metadata": {},
     "output_type": "display_data"
    },
    {
     "data": {
      "application/vdom.v1+json": {
       "attributes": {},
       "tagName": "div"
      },
      "text/html": [
       "\n",
       "                <script>\n",
       "                    if (Jupyter.version.split(\".\")[0] < 5) {\n",
       "                        var pb = document.getElementById(\"e05c6956-00e0-43c5-abc9-57b90982ecd6\");\n",
       "                        var text = document.createTextNode(\n",
       "                            \"HMTL progress bar requires Jupyter Notebook >= \" +\n",
       "                            \"5.0 or Jupyter Lab. Alternatively, you can use \" +\n",
       "                            \"TerminalProgressBar().\");\n",
       "                        pb.parentNode.insertBefore(text, pb);\n",
       "                    }\n",
       "                </script>\n",
       "                <div id=\"e05c6956-00e0-43c5-abc9-57b90982ecd6\" style=\"\n",
       "                    width: 100%;\n",
       "                    border: 1px solid #cfcfcf;\n",
       "                    border-radius: 4px;\n",
       "                    text-align: center;\n",
       "                    position: relative;\">\n",
       "                  <div class=\"pb-text\" style=\"\n",
       "                      position: absolute;\n",
       "                      width: 100%;\">\n",
       "                    0%\n",
       "                  </div>\n",
       "                  <div class=\"pb-fill\" style=\"\n",
       "                      background-color: #bdd2e6;\n",
       "                      width: 0%;\">\n",
       "                    <style type=\"text/css\" scoped=\"scoped\">\n",
       "                        @keyframes pb-fill-anim {\n",
       "                            0% { background-position: 0 0; }\n",
       "                            100% { background-position: 100px 0; }\n",
       "                        }\n",
       "                    </style>\n",
       "                    &nbsp;\n",
       "                  </div>\n",
       "                </div>"
      ],
      "text/plain": [
       "HtmlProgressBar cannot be displayed. Please use the TerminalProgressBar. It can be enabled with `nengo.rc['progress']['progress_bar'] = 'nengo.utils.progress.TerminalProgressBar'`."
      ]
     },
     "metadata": {},
     "output_type": "display_data"
    },
    {
     "data": {
      "application/vdom.v1+json": {
       "attributes": {
        "id": "e9e0a8c2-95de-44cf-b045-398704ea5ef0",
        "style": {
         "border": "1px solid #cfcfcf",
         "borderRadius": "4px",
         "boxSizing": "border-box",
         "position": "relative",
         "textAlign": "center",
         "width": "100%"
        }
       },
       "children": [
        {
         "attributes": {
          "class": "pb-text",
          "style": {
           "position": "absolute",
           "width": "100%"
          }
         },
         "children": [
          "Simulation finished in 0:00:02."
         ],
         "tagName": "div"
        },
        {
         "attributes": {
          "class": "pb-fill",
          "style": {
           "animation": "none",
           "backgroundColor": "#bdd2e6",
           "backgroundImage": "none",
           "transition": "width 0.1s linear",
           "width": "100%"
          }
         },
         "children": [
          {
           "attributes": {
            "scoped": "scoped",
            "type": "text/css"
           },
           "children": [
            "\n                        @keyframes pb-fill-anim {\n                            0% { background-position: 0 0; }\n                            100% { background-position: 100px 0; }\n                        }}"
           ],
           "tagName": "style"
          },
          " "
         ],
         "tagName": "div"
        }
       ],
       "tagName": "div"
      },
      "text/html": [
       "<script>\n",
       "              (function () {\n",
       "                  var root = document.getElementById('e05c6956-00e0-43c5-abc9-57b90982ecd6');\n",
       "                  var text = root.getElementsByClassName('pb-text')[0];\n",
       "                  var fill = root.getElementsByClassName('pb-fill')[0];\n",
       "\n",
       "                  text.innerHTML = 'Simulation finished in 0:00:02.';\n",
       "                  \n",
       "            if (100.0 > 0.) {\n",
       "                fill.style.transition = 'width 0.1s linear';\n",
       "            } else {\n",
       "                fill.style.transition = 'none';\n",
       "            }\n",
       "\n",
       "            fill.style.width = '100.0%';\n",
       "            fill.style.animation = 'none';\n",
       "            fill.style.backgroundImage = 'none'\n",
       "        \n",
       "                  \n",
       "                fill.style.animation = 'none';\n",
       "                fill.style.backgroundImage = 'none';\n",
       "            \n",
       "              })();\n",
       "        </script>"
      ]
     },
     "metadata": {},
     "output_type": "display_data"
    },
    {
     "data": {
      "text/plain": [
       "<matplotlib.legend.Legend at 0x2e6ffa873d0>"
      ]
     },
     "execution_count": 6,
     "metadata": {},
     "output_type": "execute_result"
    },
    {
     "data": {
      "image/png": "[encoded data removed]",
      "text/plain": [
       "<Figure size 640x480 with 1 Axes>"
      ]
     },
     "metadata": {},
     "output_type": "display_data"
    }
   ],
   "source": [
    "model = nengo.Network(label=\"2D Nav Dynamics\")\n",
    "with model:\n",
    "    # Create the recurrent neuron ensemble\n",
    "    C = nengo.Ensemble(200, dimensions=2)\n",
    "\n",
    "    # Create piecewise acceleration controli nput\n",
    "    input_accel = nengo.Node(Piecewise({0: 0.5, 1: 0, 2: -1, 3: 0, 4: 1, 5: 0}))\n",
    "\n",
    "    # Using a long time constant for stability (less noise)\n",
    "    tau = 0.1\n",
    "\n",
    "    feedback_matrix = [[1, tau], [0, 1]]\n",
    "    nengo.Connection(C, C, transform=feedback_matrix, synapse=tau)\n",
    "\n",
    "    feedfwd_matrix = [[0], [tau]]\n",
    "    nengo.Connection(input_accel, C, transform=feedfwd_matrix, synapse=tau)\n",
    "\n",
    "    # Probe and run\n",
    "    # Add probes\n",
    "    input_probe = nengo.Probe(input_accel)\n",
    "    position_probe = nengo.Probe(C[0], synapse=0.01)\n",
    "    velocity_probe = nengo.Probe(C[1], synapse=0.01)\n",
    "\n",
    "# Create our simulator\n",
    "with nengo.Simulator(model) as sim:\n",
    "    # Run it for 10 seconds\n",
    "    sim.run(6)\n",
    "\n",
    "# Plot the decoded output (poisiton) of the ensemble\n",
    "plt.figure()\n",
    "plt.plot(sim.trange(), sim.data[input_probe], label=\"Input - Acceleration\")\n",
    "plt.plot(sim.trange(), sim.data[velocity_probe], label=\"Output - Velocity\")\n",
    "plt.plot(sim.trange(), sim.data[position_probe], \"k\", label=\"Output - Position\")\n",
    "plt.legend()"
   ]
  },
  {
   "cell_type": "markdown",
   "metadata": {},
   "source": [
    "### Make everything 2D!\n",
    "\n",
    "The two above integrators only account for movement in one dimension/direction (i.e. we are only moving east/west). We'd like to add a second dimension/direction to our input signal (i.e. north/south) and use acceleration to control the movement of our \"vehicle\".\n",
    "\n",
    "Using the same methodology above for your 2D integrator, find your $A$ and $B$ matrices and use those to find your Nengo $f'$ and $g'$ functions to achieve the dynamics.\n",
    "\n",
    "Then using acceleration as your input (now with $a_x$ for east/west and $a_y$ for north/south), start off by heading north, then make your \"vehicle\" turn right (east), then right (south), then left (east). \n",
    "\n",
    "Hints:\n",
    "\n",
    "- You will need to use a [Nengo process called `PresentInput`](https://www.nengo.ai/nengo/examples/advanced/processes.html), which is similar to Piecewise, except now you can make your input 2 dimensions, one for $a_x$ and one for $a_y$\n",
    "- Your output state vector should be $x=\\begin{bmatrix} p_x \\\\ p_y \\\\ v_x \\\\ v_y \\end{bmatrix}$ and your input should be $u=\\begin{bmatrix} a_x \\\\ a_y \\end{bmatrix}$\n",
    "- The size of your $f'$ matrix should be $4\\times4$ and the size of your $g'$ matrix should be $4\\times2$.\n",
    "- Negative velocity moves you in a negative direction. If you start with positive acceleration, changing it to negative gradually gets you to a negative velocity (because it does not instantaneously change from positive to negative - you should have seen that in your last two plots). _Your direction will not change until your velocity is negative!_\n",
    "- Your neurons will drift (you can try this out by putting in zero acceleration and seeing what happens to velocity and position... it's bad!). This is real-world stuff! Kalman filters help us know where we are in between GPS signals and require feedback just like our neurons. Not only are you feeding back signal, but you are also feeding back noise and/or error (also much like our neurons - think through our noisy plots!). Said noise/error only grows over time as it continues to be fed back in and accumulate. This is the definition of drift - you are drifting away from your actual position - in this case, 0.  Even if you aren't wanting to move in a particular direction (yet), it might be wise to try to stabilize your dynamics using a small input in a particular direction you know you might be using soon. Such as... I know I want my vehicle to head north in a few seconds, so I'll start it off with a super small positive number (instead of zero) to make sure it's heading in the right direction when it's time. Note: this will bias your signal when you try to send your velocity back to zero (next hint). \n",
    "- To make a 90 degree turn, if you already have movement in the y direction (north), you'll need to pump the breaks hard to quickly turn right (east) -- just like driving! That way you aren't continuously moving north with velocity greater than 0 (per the last hint) while trying to actually move east . You need your velocity to get back to zero in the north direction to change your direction to east.\n",
    "- I used 8 time steps (and therefore ran my simulation for 8s) to complete my turns (2 time steps  for each turn, 1 second each, total 4*2=8)\n",
    "\n",
    "\n",
    "**Your plots will not look the same twice, ever! But it should be clear that you're making the correct turns with your \"vehicle\" the majority of the time.** This is due to noise and initial neuron parameters. Think through what your velocity plots should look like (in terms of shape). If that looks close, it works for me. **_Be sure to SAVE YOUR BEST PLOTS FOR THIS SECTION AND INCLUDE THEM ON GITHUB FOR YOUR SUBMISSION!_**"
   ]
  },
  {
   "cell_type": "code",
   "execution_count": null,
   "metadata": {},
   "outputs": [],
   "source": [
    "model = nengo.Network(label=\"Multidirectional Nav Dynamics\")\n",
    "with model:\n",
    "    # Create the recurrent neuron ensemble\n",
    "    D = nengo.Ensemble(400, dimensions=4)\n",
    "\n",
    "    # Create piecewise acceleration control input\n",
    "    # Note, I am initializing BOTH directions as the exact same dynamics from the past two parts\n",
    "    # That way, you can confirm everything is connected properly first\n",
    "    inputs = [[.5, .5], [0, 0], [-1, -1], [0, 0], [1, 1], [0,0]]\n",
    "    #          [north],  [brakes], [east] , [brakes], [south], [brakes], [east], [brakes]\n",
    "    process = nengo.processes.PresentInput(inputs, presentation_time=1)\n",
    "    accel_input = nengo.Node(process)\n",
    "    \n",
    "    #input_accelX = nengo.Node(Piecewise({0: 0, 0.2: 1, 1: 0, 2: -2, 3: 0, 4: 1, 5: 0}))\n",
    "    #input_accelY = nengo.Node(Piecewise({0: 0, 0.2: 1, 1: 0, 2: -2, 3: 0, 4: 1, 5: 0}))\n",
    "\n",
    "    # Using a long time constant for stability (less noise)\n",
    "    tau = 0.2\n",
    "\n",
    "    feedback_matrix = ???\n",
    "    #print(feedback_matrix)\n",
    "    nengo.Connection(D, D, transform=feedback_matrix, synapse=tau)  \n",
    "    \n",
    "    feedfwd_matrix = ???\n",
    "    #print(feedfwd_matrix)\n",
    "\n",
    "    nengo.Connection(accel_input, D, transform=feedfwd_matrix, synapse=tau)  \n",
    "\n"
   ]
  },
  {
   "cell_type": "markdown",
   "metadata": {},
   "source": [
    "#### Probe it, run it, plot it!"
   ]
  },
  {
   "cell_type": "code",
   "execution_count": null,
   "metadata": {},
   "outputs": [],
   "source": [
    "with model:\n",
    "    # Probe and run\n",
    "    # Add probes\n",
    "    input_probe = nengo.Probe(accel_input)\n",
    "    output_probe = nengo.Probe(D, synapse=0.01)\n",
    "\n",
    "# Create our simulator\n",
    "with nengo.Simulator(model) as sim:\n",
    "    # Run it for 10 seconds\n",
    "    sim.run(6)\n",
    "\n",
    "plt.figure()\n",
    "plt.plot(sim.trange(), sim.data[input_probe][:, 0], label=\"Input - Acceleration\")\n",
    "plt.plot(sim.trange(), sim.data[output_probe][:, 2], label=\"Output - Velocity\")\n",
    "plt.plot(sim.trange(), sim.data[output_probe][:, 0], \"k\", label=\"Output - Position\")\n",
    "plt.legend()\n",
    "plt.title(\"X Dynamics\")\n",
    "\n",
    "# Plot the decoded outputs\n",
    "plt.figure()\n",
    "plt.plot(sim.trange(), sim.data[input_probe][:, 1], label=\"Input - Acceleration\")\n",
    "plt.plot(sim.trange(), sim.data[output_probe][:, 3], label=\"Output - Velocity\")\n",
    "plt.plot(sim.trange(), sim.data[output_probe][:, 1], \"k\", label=\"Output - Position\")\n",
    "plt.legend()\n",
    "plt.title(\"Y Dynamics\")\n",
    "\n",
    "# Plot the birds-eye view of position\n",
    "plt.figure()\n",
    "plt.plot(\n",
    "    sim.data[output_probe][:, 0], sim.data[output_probe][:, 1], label=\"2D Position\"\n",
    ")\n",
    "plt.legend()"
   ]
  }
 ],
 "metadata": {
  "kernelspec": {
   "display_name": "py3.10-nengo3.2",
   "language": "python",
   "name": "python3"
  },
  "language_info": {
   "codemirror_mode": {
    "name": "ipython",
    "version": 3
   },
   "file_extension": ".py",
   "mimetype": "text/x-python",
   "name": "python",
   "nbconvert_exporter": "python",
   "pygments_lexer": "ipython3",
   "version": "3.10.13"
  }
 },
 "nbformat": 4,
 "nbformat_minor": 2
}
